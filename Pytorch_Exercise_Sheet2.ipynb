{
  "nbformat": 4,
  "nbformat_minor": 0,
  "metadata": {
    "colab": {
      "provenance": [],
      "toc_visible": true,
      "authorship_tag": "ABX9TyNKLBTHusqmia8KKePf83iJ",
      "include_colab_link": true
    },
    "kernelspec": {
      "name": "python3",
      "display_name": "Python 3"
    },
    "language_info": {
      "name": "python"
    }
  },
  "cells": [
    {
      "cell_type": "markdown",
      "metadata": {
        "id": "view-in-github",
        "colab_type": "text"
      },
      "source": [
        "<a href=\"https://colab.research.google.com/github/fouziasharkar/Programming-and-Systems-Development-/blob/main/Pytorch_Exercise_Sheet2.ipynb\" target=\"_parent\"><img src=\"https://colab.research.google.com/assets/colab-badge.svg\" alt=\"Open In Colab\"/></a>"
      ]
    },
    {
      "cell_type": "code",
      "execution_count": null,
      "metadata": {
        "colab": {
          "base_uri": "https://localhost:8080/"
        },
        "id": "TT9YMaWuvURl",
        "outputId": "db8baa20-2f81-4db8-9302-9a2c6d31d0a7"
      },
      "outputs": [
        {
          "output_type": "stream",
          "name": "stdout",
          "text": [
            "2.8.0+cu126\n"
          ]
        }
      ],
      "source": [
        "import torch\n",
        "print(torch.__version__)"
      ]
    },
    {
      "cell_type": "code",
      "source": [
        "import torch.nn as nn"
      ],
      "metadata": {
        "id": "18zqT5S0vk-o"
      },
      "execution_count": null,
      "outputs": []
    },
    {
      "cell_type": "markdown",
      "source": [
        "# **Task-1**"
      ],
      "metadata": {
        "id": "f4ppb0qe_NYl"
      }
    },
    {
      "cell_type": "markdown",
      "source": [
        "## **PyTorch Regression (MSELoss + Adam)**\n",
        "\n",
        "In this practical exercise, you will build and train a simple regression model using PyTorch. You will learn how to define a neural network, generate synthetic data, use MSELoss, and train the model using the Adam optimizer.\n",
        "\n",
        "\n",
        "**Instructions Step 1:** Data Generation\n",
        "Import torch.\n",
        "Generate feature data X with 120 samples and 8 features:\n",
        "   X = torch.randn(120, 8)\n",
        "\n",
        "**Create a learnable target using the formula:**\n",
        "\n",
        "y = X @ w + b + noise, where w (8×1) and b are constants, and noise ~ N(0, 0.5).\n",
        "\n",
        "Print X.shape and y.shape to confirm dimensions.\n",
        "\n",
        "**Step 2: Model Definition**\n",
        "Define a neural network class called RevenueNet that extends torch.nn.Module.\n",
        "Include three layers:\n",
        "   - Input: 8 neurons\n",
        "   - Hidden: 16 → 8 neurons (ReLU activation)\n",
        "   - Output: 1 neuron (no activation)\n",
        "\n",
        "Print the model architecture after initialization.\n",
        "\n",
        "**Step 3: Model Setup**\n",
        "Instantiate your RevenueNet model.\n",
        "Use torch.nn.MSELoss() as your loss function.\n",
        "Use the Adam optimizer with a learning rate of 0.010.\n",
        "\n",
        "**Step 4: Training Loop**\n",
        "\n",
        "Train the model for 30 epochs.\n",
        "\n",
        "For each epoch:\n",
        "\n",
        "   Compute predictions with model(X).\n",
        "\n",
        "   Calculate loss using the MSELoss criterion.\n",
        "\n",
        "   Zero the gradients, perform backpropagation, and update model weights.\n",
        "\n",
        "Print loss after each epoch in the format:\n",
        "Epoch 01 | Loss: 0.123456\n",
        "\n",
        "**Step 5: Loss Visualisation**\n",
        "Use matplotlib to plot the recorded training loss across epochs. Label axes and provide a title. Display the chart with plt.show().\n"
      ],
      "metadata": {
        "id": "nRIRsK7Gsl0p"
      }
    },
    {
      "cell_type": "code",
      "source": [
        "import torch\n",
        "import torch.nn as nn\n",
        "import torch.optim as optim\n",
        "import matplotlib.pyplot as plt"
      ],
      "metadata": {
        "id": "KcfX8bixvlBy"
      },
      "execution_count": null,
      "outputs": []
    },
    {
      "cell_type": "code",
      "source": [
        "# Data\n",
        "# Generate 120 samples with 8 features each\n",
        "X = torch.randn(120, 8)\n",
        "\n",
        "# Define true weights and bias\n",
        "w = torch.randn(8, 1)\n",
        "b = torch.randn(1)\n",
        "\n",
        "# Add random noise (mean=0, std=0.5)\n",
        "noise = torch.randn(120, 1) * 0.5\n",
        "\n",
        "# True relationship: y = Xw + b + noise\n",
        "y = X @ w + b + noise\n",
        "\n",
        "print(X.shape, y.shape)  # should be torch.Size([120, 8]) torch.Size([120, 1])"
      ],
      "metadata": {
        "colab": {
          "base_uri": "https://localhost:8080/"
        },
        "id": "MC8nFEz81E-Y",
        "outputId": "1a7a2913-3744-41f6-c467-64decf223ad9"
      },
      "execution_count": null,
      "outputs": [
        {
          "output_type": "stream",
          "name": "stdout",
          "text": [
            "torch.Size([120, 8]) torch.Size([120, 1])\n"
          ]
        }
      ]
    },
    {
      "cell_type": "code",
      "source": [
        "class RevenueNet(nn.Module):\n",
        "    def __init__(self):\n",
        "        super().__init__()\n",
        "        self.fc1 = nn.Linear(8, 16)   # Input layer: 8 → 16\n",
        "        self.fc2 = nn.Linear(16, 8)   # Hidden layer: 16 → 8\n",
        "        self.fc3 = nn.Linear(8, 1)    # Output layer: 8 → 1\n",
        "        self.relu = nn.ReLU()         # Activation for hidden layers\n",
        "\n",
        "    def forward(self, x):\n",
        "        x = self.relu(self.fc1(x))\n",
        "        x = self.relu(self.fc2(x))\n",
        "        x = self.fc3(x)               # No activation for regression\n",
        "        return x\n",
        "\n",
        "model = RevenueNet()\n",
        "print(model)"
      ],
      "metadata": {
        "colab": {
          "base_uri": "https://localhost:8080/"
        },
        "id": "X-5BOrUT1FBO",
        "outputId": "5c59f454-d7b2-459a-fd86-c9fcf95ad79d"
      },
      "execution_count": null,
      "outputs": [
        {
          "output_type": "stream",
          "name": "stdout",
          "text": [
            "RevenueNet(\n",
            "  (fc1): Linear(in_features=8, out_features=16, bias=True)\n",
            "  (fc2): Linear(in_features=16, out_features=8, bias=True)\n",
            "  (fc3): Linear(in_features=8, out_features=1, bias=True)\n",
            "  (relu): ReLU()\n",
            ")\n"
          ]
        }
      ]
    },
    {
      "cell_type": "code",
      "source": [
        "#loss\n",
        "criterion = nn.MSELoss()                      # measures how wrong predictions are\n",
        "optimizer = torch.optim.Adam(model.parameters(), lr=0.01)"
      ],
      "metadata": {
        "id": "uU0xzj0Q1FDk"
      },
      "execution_count": null,
      "outputs": []
    },
    {
      "cell_type": "code",
      "source": [
        "#Train Model\n",
        "epochs = 30\n",
        "loss_values = []\n",
        "\n",
        "for epoch in range(1, epochs + 1):\n",
        "    # Forward pass\n",
        "    y_pred = model(X)\n",
        "    loss = criterion(y_pred, y)\n",
        "\n",
        "    # Backward + Optimize\n",
        "    optimizer.zero_grad()\n",
        "    loss.backward()\n",
        "    optimizer.step()\n",
        "\n",
        "    # Record & print loss\n",
        "    loss_values.append(loss.item())\n",
        "    print(f\"Epoch {epoch:02d} | Loss: {loss.item():.6f}\")"
      ],
      "metadata": {
        "colab": {
          "base_uri": "https://localhost:8080/"
        },
        "id": "H-o0OSHC7L1I",
        "outputId": "188b7a38-f5ad-4655-fc93-ad586c0afa83"
      },
      "execution_count": null,
      "outputs": [
        {
          "output_type": "stream",
          "name": "stdout",
          "text": [
            "Epoch 01 | Loss: 14.463102\n",
            "Epoch 02 | Loss: 14.290032\n",
            "Epoch 03 | Loss: 14.102554\n",
            "Epoch 04 | Loss: 13.895903\n",
            "Epoch 05 | Loss: 13.665375\n",
            "Epoch 06 | Loss: 13.406363\n",
            "Epoch 07 | Loss: 13.117813\n",
            "Epoch 08 | Loss: 12.798800\n",
            "Epoch 09 | Loss: 12.443455\n",
            "Epoch 10 | Loss: 12.045597\n",
            "Epoch 11 | Loss: 11.606129\n",
            "Epoch 12 | Loss: 11.119975\n",
            "Epoch 13 | Loss: 10.591763\n",
            "Epoch 14 | Loss: 10.026587\n",
            "Epoch 15 | Loss: 9.428883\n",
            "Epoch 16 | Loss: 8.802760\n",
            "Epoch 17 | Loss: 8.155734\n",
            "Epoch 18 | Loss: 7.501103\n",
            "Epoch 19 | Loss: 6.853632\n",
            "Epoch 20 | Loss: 6.229462\n",
            "Epoch 21 | Loss: 5.658088\n",
            "Epoch 22 | Loss: 5.157140\n",
            "Epoch 23 | Loss: 4.746015\n",
            "Epoch 24 | Loss: 4.435935\n",
            "Epoch 25 | Loss: 4.224885\n",
            "Epoch 26 | Loss: 4.093893\n",
            "Epoch 27 | Loss: 4.011970\n",
            "Epoch 28 | Loss: 3.928663\n",
            "Epoch 29 | Loss: 3.813957\n",
            "Epoch 30 | Loss: 3.652200\n"
          ]
        }
      ]
    },
    {
      "cell_type": "code",
      "source": [
        "plt.plot(loss_values)\n",
        "plt.xlabel('Epoch')\n",
        "plt.ylabel('Loss')\n",
        "plt.title('Training Loss Across Epochs')\n",
        "plt.show()"
      ],
      "metadata": {
        "colab": {
          "base_uri": "https://localhost:8080/",
          "height": 472
        },
        "id": "YBa24Hbo7L4C",
        "outputId": "6a650577-2bad-476e-cec1-4db7842195fc"
      },
      "execution_count": null,
      "outputs": [
        {
          "output_type": "display_data",
          "data": {
            "text/plain": [
              "<Figure size 640x480 with 1 Axes>"
            ],
            "image/png": "[encoded data removed]"
          },
          "metadata": {}
        }
      ]
    },
    {
      "cell_type": "markdown",
      "source": [
        "**Reflection Questions**\n",
        "\n",
        "Answer these questions after completing the exercise:\n",
        "\n",
        "1)\tWhat does a decreasing MSE loss tell you about your model’s learning process?\n",
        "2)\tWhat happens if you increase the learning rate to 0.1? Why?\n",
        "3)\tHow does adding more noise to your target (y) affect training performance?\n",
        "4)\tWhy is MSELoss appropriate for regression problems instead of BCELoss?\n",
        "5)\tIn what real-world cybersecurity scenario might regression modelling be used?\n"
      ],
      "metadata": {
        "id": "a0vRKoIWubaY"
      }
    },
    {
      "cell_type": "code",
      "source": [
        "# 1. A decreasing MSE loss indicates the model is learning and improving its fit to the data."
      ],
      "metadata": {
        "id": "zSZr-hq3ui9Y"
      },
      "execution_count": null,
      "outputs": []
    },
    {
      "cell_type": "code",
      "source": [
        "\"\"\"\n",
        "If you increase the learning rate too much (e.g., from 0.01 → 0.1),\n",
        "your model might learn too fast and overshoot the optimal values.\n",
        "\n",
        "That means:\n",
        "The loss could fluctuate wildly or even diverge (increase instead of decrease).\n",
        "The optimizer makes big, unstable jumps in parameter space rather than small, steady improvements.\n",
        "\n",
        "📘 In short:\n",
        "A higher learning rate can make training unstable and prevent convergence, while\n",
        "a small rate ensures smooth, gradual learning.\n",
        "\n",
        "\"\"\""
      ],
      "metadata": {
        "colab": {
          "base_uri": "https://localhost:8080/",
          "height": 88
        },
        "id": "tq5uT-N1ui_7",
        "outputId": "d702c52e-861e-4aca-948e-1205def20b76"
      },
      "execution_count": null,
      "outputs": [
        {
          "output_type": "execute_result",
          "data": {
            "text/plain": [
              "'\\nIf you increase the learning rate too much (e.g., from 0.01 → 0.1),\\nyour model might learn too fast and overshoot the optimal values.\\n\\nThat means:\\nThe loss could fluctuate wildly or even diverge (increase instead of decrease).\\nThe optimizer makes big, unstable jumps in parameter space rather than small, steady improvements.\\n\\n📘 In short:\\nA higher learning rate can make training unstable and prevent convergence, while \\na small rate ensures smooth, gradual learning.\\n\\n'"
            ],
            "application/vnd.google.colaboratory.intrinsic+json": {
              "type": "string"
            }
          },
          "metadata": {},
          "execution_count": 80
        }
      ]
    },
    {
      "cell_type": "code",
      "source": [
        "# 3. More noise = harder learning, slower convergence, and lower accuracy."
      ],
      "metadata": {
        "id": "5MFBoZOiujC2"
      },
      "execution_count": null,
      "outputs": []
    },
    {
      "cell_type": "code",
      "source": [
        "\"\"\"\n",
        "MSELoss measures the average squared difference between predicted continuous\n",
        "values and actual continuous targets — ideal for regression.\n",
        "\n",
        "BCELoss (Binary Cross-Entropy), on the other hand, is used for binary\n",
        "classification problems where outputs are probabilities (0–1).\n",
        "\n",
        "📘 In short:\n",
        "MSELoss = continuous numerical prediction\n",
        "BCELoss = binary (0/1) classification\n",
        "\n",
        "So for predicting quantities like revenue, price, or risk scores → use MSELoss.\n",
        "\n",
        "\"\"\""
      ],
      "metadata": {
        "colab": {
          "base_uri": "https://localhost:8080/",
          "height": 88
        },
        "id": "QCTs9EW_ujGc",
        "outputId": "72ae0839-b69c-47c9-e8b9-9b1da6cb1fb9"
      },
      "execution_count": null,
      "outputs": [
        {
          "output_type": "execute_result",
          "data": {
            "text/plain": [
              "'\\nMSELoss measures the average squared difference between predicted continuous \\nvalues and actual continuous targets — ideal for regression.\\n\\nBCELoss (Binary Cross-Entropy), on the other hand, is used for binary \\nclassification problems where outputs are probabilities (0–1).\\n\\n📘 In short:\\nMSELoss = continuous numerical prediction\\nBCELoss = binary (0/1) classification\\n\\nSo for predicting quantities like revenue, price, or risk scores → use MSELoss.\\n\\n'"
            ],
            "application/vnd.google.colaboratory.intrinsic+json": {
              "type": "string"
            }
          },
          "metadata": {},
          "execution_count": 82
        }
      ]
    },
    {
      "cell_type": "code",
      "source": [
        "\"\"\"\n",
        "Regression can be used in cybersecurity to predict continuous risk levels or\n",
        "anomaly scores — not just classify attacks.\n",
        "\n",
        "Examples:\n",
        "Predicting the likelihood or severity of a data breach based on system logs.\n",
        "Estimating response time to detect an intrusion based on network load.\n",
        "\n",
        "Modelling the expected financial loss from a cyberattack.\n",
        "\n",
        "📘 In short:\n",
        "Regression helps cybersecurity analysts forecast risk levels,\n",
        "costs, or impact scores — enabling proactive defense strategies.\n",
        "\n",
        "\"\"\""
      ],
      "metadata": {
        "colab": {
          "base_uri": "https://localhost:8080/",
          "height": 88
        },
        "id": "FUyjUxETv3Xy",
        "outputId": "4a27a60b-4d0c-4615-869c-73551d45cb7d"
      },
      "execution_count": null,
      "outputs": [
        {
          "output_type": "execute_result",
          "data": {
            "text/plain": [
              "'\\nRegression can be used in cybersecurity to predict continuous risk levels or \\nanomaly scores — not just classify attacks.\\n\\nExamples:\\nPredicting the likelihood or severity of a data breach based on system logs.\\nEstimating response time to detect an intrusion based on network load.\\n\\nModelling the expected financial loss from a cyberattack.\\n\\n📘 In short:\\nRegression helps cybersecurity analysts forecast risk levels, \\ncosts, or impact scores — enabling proactive defense strategies.\\n\\n'"
            ],
            "application/vnd.google.colaboratory.intrinsic+json": {
              "type": "string"
            }
          },
          "metadata": {},
          "execution_count": 83
        }
      ]
    },
    {
      "cell_type": "markdown",
      "source": [
        "# **Task-2**"
      ],
      "metadata": {
        "id": "l8WZzAFRcteb"
      }
    },
    {
      "cell_type": "markdown",
      "source": [
        "## **PyTorch Classification (BCELoss + SGD)**\n",
        "In this practical exercise, you will build and train a small binary classification model using PyTorch. You will learn how to define a neural network, generate synthetic binary labels (a learnable target), use BCELoss for classification, and train the model with the SGD optimizer.\n",
        "\n",
        "\n",
        "**Instructions Step 1:** Data Generation (Learnable Binary Target)\n",
        "\n",
        "1)\tImport torch.\n",
        "2)\tGenerate input features X with 200 samples and 4 features:\n",
        "   X = torch.randn(200, 4)\n",
        "3)\tCreate a learnable binary target using a noisy logistic model:\n",
        "\n",
        "   w = torch.tensor([[0.8],[0.6],[0.7],[0.5]])\n",
        "\n",
        "   b = torch.tensor([-1.0])\n",
        "\n",
        "   noise = 0.3 * torch.randn(200, 1)\n",
        "\n",
        "   proba = torch.sigmoid(X @ w + b + noise)  # values in (0, 1)\n",
        "\n",
        "   y = (proba > 0.5).float()                 # binary\n",
        "   \n",
        "   labels (0/1), shape (200,1)\n",
        "\n",
        "4)\tPrint the shapes of X and y to confirm dimensions.\n",
        "\n",
        "**Step 2: Model Definition (RiskNN)**\n",
        "\n",
        "1.\tDefine a neural network class RiskNN that extends torch.nn.Module.\n",
        "\n",
        "2. Architecture:\n",
        "   - Input Layer: 4 neurons\n",
        "   - Hidden Layer: 8 neurons with ReLU activation\n",
        "   - Output Layer: 1 neuron with Sigmoid activation\n",
        "\n",
        "3. Implement forward(self, x) to return the network output.\n",
        "\n",
        "**Step 3: Model Setup (BCELoss + SGD)**\n",
        "\n",
        "1. Instantiate the RiskNN model.\n",
        "2. Use torch.nn.BCELoss() as the loss function.\n",
        "3. Use torch.optim.SGD as the optimizer with a learning rate of 0.05.\n",
        "4. Print the model architecture to verify the layers.\n",
        "\n",
        "**Step 4: Training Loop**\n",
        "1. Train the model for 15 epochs.\n",
        "2. For each epoch:\n",
        "   - Compute predictions: preds = model(X)\n",
        "   - Compute loss: loss = criterion(preds, y)\n",
        "   - Zero gradients, backpropagate, and step the optimizer.\n",
        "3. Record and print the loss each epoch in the format:\n",
        "   Epoch 01: loss=0.6931\n",
        "\n",
        "**Step 5: Loss Visualisation**\n",
        "Use matplotlib to plot the recorded training loss across epochs. Label axes and provide a title. Display the chart with plt.show().\n"
      ],
      "metadata": {
        "id": "Xe1yakuHc4p-"
      }
    },
    {
      "cell_type": "code",
      "source": [
        "#Generate input features X with 200 samples and 4 features\n",
        "X = torch.randn(200, 4)"
      ],
      "metadata": {
        "id": "JLbkMu-m7L61"
      },
      "execution_count": null,
      "outputs": []
    },
    {
      "cell_type": "code",
      "source": [
        "# Create a learnable binary target using a noisy logistic model:\n",
        "\n",
        "w = torch.tensor([[0.8],[0.6],[0.7],[0.5]])\n",
        "\n",
        "b = torch.tensor([-1.0])\n",
        "\n",
        "noise = 0.3 * torch.randn(200, 1)\n",
        "\n",
        "proba = torch.sigmoid(X @ w + b + noise) # values in (0, 1)\n",
        "\n",
        "y = (proba > 0.5).float() # binary\n",
        "\n",
        "print('x:', X.shape)\n",
        "print('y:', y.shape)"
      ],
      "metadata": {
        "id": "G_jMLsEg7L-O",
        "colab": {
          "base_uri": "https://localhost:8080/"
        },
        "outputId": "7114870c-81c9-4b7f-ef4d-d164ab2c78dc"
      },
      "execution_count": null,
      "outputs": [
        {
          "output_type": "stream",
          "name": "stdout",
          "text": [
            "x: torch.Size([200, 4])\n",
            "y: torch.Size([200, 1])\n"
          ]
        }
      ]
    },
    {
      "cell_type": "code",
      "source": [
        "#Model Definition\n",
        "class RiskNN(nn.Module):\n",
        "    def __init__(self):\n",
        "        super(RiskNN, self).__init__()\n",
        "        self.fc1 = nn.Linear(4, 8)  # Input layer\n",
        "        self.fc2 = nn.Linear(8, 1)   # Hidden layer\n",
        "\n",
        "\n",
        "    def forward(self, x):\n",
        "        x = torch.relu(self.fc1(x))\n",
        "        x = torch.sigmoid(self.fc2(x))\n",
        "\n",
        "        return x\n",
        "\n",
        "# Instantiate the network\n",
        "model = RiskNN()\n",
        "print(model)"
      ],
      "metadata": {
        "colab": {
          "base_uri": "https://localhost:8080/"
        },
        "id": "Xg_lD_CIeWN1",
        "outputId": "d8f35ed8-c819-4ac4-bdd7-95cdba4db94f"
      },
      "execution_count": null,
      "outputs": [
        {
          "output_type": "stream",
          "name": "stdout",
          "text": [
            "RiskNN(\n",
            "  (fc1): Linear(in_features=4, out_features=8, bias=True)\n",
            "  (fc2): Linear(in_features=8, out_features=1, bias=True)\n",
            ")\n"
          ]
        }
      ]
    },
    {
      "cell_type": "code",
      "source": [
        "#Model Setup (BCELoss + SGD)\n",
        "criterion = torch.nn.BCELoss()\n",
        "optimizer = optim.SGD(model.parameters(), lr=0.05)"
      ],
      "metadata": {
        "id": "NHgfFJsueWQd"
      },
      "execution_count": null,
      "outputs": []
    },
    {
      "cell_type": "code",
      "source": [
        "#Training Loop\n",
        "losses = []\n",
        "for epoch in range(1, 16):\n",
        "    preds = model(X)                  # Forward pass\n",
        "    loss = criterion(preds, y)        # Compute loss\n",
        "\n",
        "    optimizer.zero_grad()             # Clear previous gradients\n",
        "    loss.backward()                   # Backpropagation\n",
        "    optimizer.step()                  # Update weights\n",
        "    losses.append(loss.item())\n",
        "    print(f\"Epoch {epoch:02d}: loss={loss.item():.4f}\")"
      ],
      "metadata": {
        "colab": {
          "base_uri": "https://localhost:8080/"
        },
        "id": "PtaoF-zfl0tF",
        "outputId": "e50582bf-0bcb-451f-9405-df82b57dfce0"
      },
      "execution_count": null,
      "outputs": [
        {
          "output_type": "stream",
          "name": "stdout",
          "text": [
            "Epoch 01: loss=0.7787\n",
            "Epoch 02: loss=0.7720\n",
            "Epoch 03: loss=0.7655\n",
            "Epoch 04: loss=0.7592\n",
            "Epoch 05: loss=0.7532\n",
            "Epoch 06: loss=0.7474\n",
            "Epoch 07: loss=0.7419\n",
            "Epoch 08: loss=0.7365\n",
            "Epoch 09: loss=0.7313\n",
            "Epoch 10: loss=0.7263\n",
            "Epoch 11: loss=0.7215\n",
            "Epoch 12: loss=0.7168\n",
            "Epoch 13: loss=0.7123\n",
            "Epoch 14: loss=0.7079\n",
            "Epoch 15: loss=0.7037\n"
          ]
        }
      ]
    },
    {
      "cell_type": "code",
      "source": [
        "import matplotlib.pyplot as plt\n",
        "\n",
        "plt.plot(losses)\n",
        "plt.xlabel(\"Epoch\")\n",
        "plt.ylabel(\"Loss\")\n",
        "plt.title(\"Training Loss Across Epochs\")\n",
        "plt.show()"
      ],
      "metadata": {
        "colab": {
          "base_uri": "https://localhost:8080/",
          "height": 472
        },
        "id": "B3Ca7yserexc",
        "outputId": "8f04f0de-805a-468a-d827-737cd7efc0ba"
      },
      "execution_count": null,
      "outputs": [
        {
          "output_type": "display_data",
          "data": {
            "text/plain": [
              "<Figure size 640x480 with 1 Axes>"
            ],
            "image/png": "[encoded data removed]"
          },
          "metadata": {}
        }
      ]
    },
    {
      "cell_type": "markdown",
      "source": [
        "1) Why is BCELoss appropriate for this task, and when would you prefer MSELoss instead?\n",
        "2) What happens to learning if you remove the Sigmoid from the output layer while still using BCELoss?\n",
        "3) How does increasing the learning rate for SGD (e.g., to 0.2) affect convergence and stability?\n",
        "4) How does increasing the noise in label generation change the loss curve and final performance?\n",
        "5) If classes become imbalanced (e.g., 90% of labels are 0), what changes could you make to the loss or data generation to address this?\n"
      ],
      "metadata": {
        "id": "dchG918PwFbH"
      }
    },
    {
      "cell_type": "code",
      "source": [
        "\"\"\"\n",
        "That breaks the math behind BCELoss.\n",
        "\n",
        "Here’s why:\n",
        "\n",
        "BCELoss expects probabilities between 0 and 1.\n",
        "Without Sigmoid, your model outputs raw scores (logits) — which can be any number (negative or positive).\n",
        "So, BCELoss will get invalid inputs (e.g., -2.4, 3.8) and produce unstable or exploding losses.\n",
        "\n",
        "As a result:\n",
        "The loss may not decrease properly,\n",
        "Gradients might blow up or vanish,\n",
        "The model may fail to learn.\n",
        "\n",
        "\"\"\""
      ],
      "metadata": {
        "id": "J5_Jk6iJwHTP"
      },
      "execution_count": null,
      "outputs": []
    },
    {
      "cell_type": "code",
      "source": [
        "\"\"\"A very high learning rate makes the\n",
        "optimizer take too large steps when updating weights.\n",
        "\n",
        "Result:\n",
        "The loss may oscillate instead of steadily decreasing,\n",
        "The model may fail to converge or even diverge (loss goes up).\n",
        "\n",
        "At moderate rates (e.g., 0.01 or 0.05), SGD converges slowly but smoothly.\n",
        "At 0.2, steps are so big that it “jumps” over the minimum repeatedly.\n",
        "\n",
        "📘 In short:\n",
        "A higher learning rate speeds up learning at first but often\n",
        "destabilizes convergence and hurts final accuracy.\n",
        "\n",
        "\"\"\""
      ],
      "metadata": {
        "id": "UEJnzLHPwHtZ"
      },
      "execution_count": null,
      "outputs": []
    },
    {
      "cell_type": "code",
      "source": [
        "\"\"\"\n",
        "Option 1: Weighted loss\n",
        "Use BCEWithLogitsLoss(pos_weight=...)\n",
        "to give more importance to the minority class (1s).\n",
        "\n",
        "Option 2: Resample the datap[;'/]\n",
        "Oversample minority class (duplicate 1s)\n",
        "Undersample majority class (remove some 0s)\n",
        "\n",
        "Option 3: Synthetic data\n",
        "Generate balanced data when creating\n",
        "labels so that the number of 0s and 1s is roughly equal.\n",
        "\n",
        "📘 In short:\n",
        "Handle imbalance by using weighted loss or balancing\n",
        "your dataset so both classes contribute equally to learning.\n",
        "\n",
        "\n",
        "\"\"\""
      ],
      "metadata": {
        "id": "gMlI1u1mwHv6"
      },
      "execution_count": null,
      "outputs": []
    },
    {
      "cell_type": "markdown",
      "source": [
        "# **2024-2025 exam paper question**\n",
        "\n",
        "## **Regression**"
      ],
      "metadata": {
        "id": "O9W6Igk51dfA"
      }
    },
    {
      "cell_type": "code",
      "source": [
        "# --- Task 3: Basic Neural Network Implementation ---\n",
        "\n",
        "import torch\n",
        "import torch.nn as nn\n",
        "import torch.optim as optim\n",
        "import matplotlib.pyplot as plt\n",
        "\n",
        "# ---------------- Task 3a: Model Definition ----------------\n",
        "class SimpleNN(nn.Module):\n",
        "    def __init__(self):\n",
        "        super().__init__()\n",
        "        self.fc1 = nn.Linear(10, 5)   # Input → Hidden1\n",
        "        self.fc2 = nn.Linear(5, 3)    # Hidden1 → Hidden2\n",
        "        self.fc3 = nn.Linear(3, 1)    # Hidden2 → Output\n",
        "        self.relu = nn.ReLU()\n",
        "        self.sigmoid = nn.Sigmoid()\n",
        "\n",
        "    def forward(self, x):\n",
        "        x = self.relu(self.fc1(x))\n",
        "        x = self.relu(self.fc2(x))\n",
        "        x = self.sigmoid(self.fc3(x))   # Sigmoid output\n",
        "        return x\n",
        "\n",
        "# Initialize model, loss, optimizer\n",
        "model = SimpleNN()\n",
        "criterion = nn.MSELoss()\n",
        "optimizer = optim.SGD(model.parameters(), lr=0.01)\n",
        "\n",
        "# ---------------- Task 3b: Data Generation ----------------\n",
        "torch.manual_seed(0)                   # 🔒 reproducible -> to always have the same result\n",
        "x = torch.randn(100, 10)               # 100 samples × 10 features\n",
        "y = torch.randn(100, 1)\n",
        "y = (y - y.min()) / (y.max() - y.min())  # normalize 0–1 for Sigmoid\n",
        "\n",
        "# ---------------- Task 3c: Training ----------------\n",
        "losses = []\n",
        "for epoch in range(1, 21):\n",
        "    preds = model(x)\n",
        "    loss = criterion(preds, y)\n",
        "\n",
        "    optimizer.zero_grad()\n",
        "    loss.backward()\n",
        "    optimizer.step()\n",
        "\n",
        "    losses.append(loss.item())\n",
        "    print(f\"Epoch {epoch:02d}: Loss = {loss.item():.4f}\")\n",
        "\n",
        "# ---------------- Task 3d: Loss Visualization ----------------\n",
        "plt.figure(figsize=(6,4))\n",
        "plt.plot(losses)\n",
        "plt.title(\"Training Loss Over Time\")\n",
        "plt.xlabel(\"Epoch\")\n",
        "plt.ylabel(\"Loss\")\n",
        "plt.tight_layout()\n",
        "plt.show()"
      ],
      "metadata": {
        "colab": {
          "base_uri": "https://localhost:8080/",
          "height": 754
        },
        "id": "xPwmMSbB3DZq",
        "outputId": "02f0dc9b-b157-4165-aecb-3bc712f490c6"
      },
      "execution_count": null,
      "outputs": [
        {
          "output_type": "stream",
          "name": "stdout",
          "text": [
            "Epoch 01: Loss = 0.0564\n",
            "Epoch 02: Loss = 0.0564\n",
            "Epoch 03: Loss = 0.0563\n",
            "Epoch 04: Loss = 0.0563\n",
            "Epoch 05: Loss = 0.0563\n",
            "Epoch 06: Loss = 0.0562\n",
            "Epoch 07: Loss = 0.0562\n",
            "Epoch 08: Loss = 0.0561\n",
            "Epoch 09: Loss = 0.0561\n",
            "Epoch 10: Loss = 0.0561\n",
            "Epoch 11: Loss = 0.0560\n",
            "Epoch 12: Loss = 0.0560\n",
            "Epoch 13: Loss = 0.0559\n",
            "Epoch 14: Loss = 0.0559\n",
            "Epoch 15: Loss = 0.0559\n",
            "Epoch 16: Loss = 0.0558\n",
            "Epoch 17: Loss = 0.0558\n",
            "Epoch 18: Loss = 0.0558\n",
            "Epoch 19: Loss = 0.0557\n",
            "Epoch 20: Loss = 0.0557\n"
          ]
        },
        {
          "output_type": "display_data",
          "data": {
            "text/plain": [
              "<Figure size 600x400 with 1 Axes>"
            ],
            "image/png": "[encoded data removed]"
          },
          "metadata": {}
        }
      ]
    },
    {
      "cell_type": "markdown",
      "source": [
        "# **Chatgpt Problems**"
      ],
      "metadata": {
        "id": "TfI3MZ72E8Hb"
      }
    },
    {
      "cell_type": "markdown",
      "source": [
        "## **Task-1**\n",
        "\n",
        "### **Regression**"
      ],
      "metadata": {
        "id": "0V1gez_qFCnr"
      }
    },
    {
      "cell_type": "markdown",
      "source": [
        "Define a simple neural network in PyTorch named MiniNet with the following structure:\n",
        "\n",
        "**Input:** 6 features\n",
        "\n",
        "**Hidden Layer 1:** 4 neurons, ReLU activation\n",
        "\n",
        "**Output Layer:** 1 neuron, no activation\n",
        "\n",
        "**Then:**\n",
        "\n",
        "1) Instantiate the model.\n",
        "\n",
        "2) Print the total number of trainable parameters.\n",
        "\n",
        "Reflection:\n",
        "Explain in 1–2 lines — why would you not use a Sigmoid activation in the output layer for a regression problem?"
      ],
      "metadata": {
        "id": "POr-mpHpFJvf"
      }
    },
    {
      "cell_type": "code",
      "source": [
        "class MiniNet(nn.Module):\n",
        "    def __init__(self):\n",
        "        super().__init__()\n",
        "        self.fc1 = nn.Linear(6, 4)   # Input → Hidden1\n",
        "        self.fc2 = nn.Linear(4, 1)    # Hidden1 → Hidden2\n",
        "        self.relu = nn.ReLU()\n",
        "\n",
        "\n",
        "    def forward(self, x):\n",
        "        x = self.relu(self.fc1(x))\n",
        "        x = self.fc2(x)               # no activation\n",
        "        return x\n",
        "\n",
        "\n",
        "\n",
        "model = MiniNet()\n",
        "print(model)\n",
        "\n",
        "\n",
        "# Count trainable parameters (step by step)\n",
        "total_params = 0\n",
        "for i in model.parameters():\n",
        "    if i.requires_grad:                 # Only count trainable parameters\n",
        "        print(i.shape, i.numel())       # Returns the number of elements in\n",
        "                                        # that tensor (for example, how many weights or biases it contains\n",
        "        total_params += i.numel()       # Add up all numbers\n",
        "\n",
        "print(\"Total trainable parameters:\", total_params)"
      ],
      "metadata": {
        "colab": {
          "base_uri": "https://localhost:8080/"
        },
        "id": "-qONJaftFBGH",
        "outputId": "1842ea0c-8270-4dc4-d0a8-10871e434f37"
      },
      "execution_count": null,
      "outputs": [
        {
          "output_type": "stream",
          "name": "stdout",
          "text": [
            "MiniNet(\n",
            "  (fc1): Linear(in_features=6, out_features=4, bias=True)\n",
            "  (fc2): Linear(in_features=4, out_features=1, bias=True)\n",
            "  (relu): ReLU()\n",
            ")\n",
            "torch.Size([4, 6]) 24\n",
            "torch.Size([4]) 4\n",
            "torch.Size([1, 4]) 4\n",
            "torch.Size([1]) 1\n",
            "Total trainable parameters: 33\n"
          ]
        }
      ]
    },
    {
      "cell_type": "markdown",
      "source": [
        "## **Task-2**\n",
        "\n",
        "### **Binary Classification**"
      ],
      "metadata": {
        "id": "PniNAmtXWDk7"
      }
    },
    {
      "cell_type": "markdown",
      "source": [
        "You are training a simple neural network for binary classification using BCELoss and SGD.\n",
        "\n",
        "Define a network class called RiskNN with:\n",
        "\n",
        "**Input Layer:** 5 input features\n",
        "\n",
        "**Hidden layer 1:** 10 neurons, ReLU activation\n",
        "\n",
        "**Hidden layer 2:** 5 neurons, ReLU activation\n",
        "\n",
        "**Output layer:** 1 neuron, no activation\n",
        "\n",
        "**Then:**\n",
        "\n",
        "1) Print all layer names and their parameter shapes.\n",
        "\n",
        "2) Print only the weights of the second hidden layer."
      ],
      "metadata": {
        "id": "C76a5_PIWJZp"
      }
    },
    {
      "cell_type": "code",
      "source": [
        "#Model Definition\n",
        "class RiskNN(nn.Module):\n",
        "    def __init__(self):\n",
        "        super(RiskNN, self).__init__()\n",
        "        self.fc1 = nn.Linear(5, 10)  # Input layer\n",
        "        self.fc2 = nn.Linear(10, 5)   # Hidden layer\n",
        "        self.fc3 = nn.Linear(5, 1)    # Output layer\n",
        "        self.relu = nn.ReLU()\n",
        "        self.sigmoid = nn.Sigmoid()\n",
        "\n",
        "    def forward(self, x):\n",
        "        x = torch.relu(self.fc1(x))\n",
        "        x = torch.relu(self.fc2(x))\n",
        "        x = self.fc3(x)               # No activation\n",
        "\n",
        "        return x\n",
        "\n",
        "# Instantiate the network\n",
        "model = RiskNN()\n",
        "print(model)\n",
        "\n",
        "\n",
        "# Print all layer names and their parameter shapes\n",
        "for name, param in model.named_parameters():\n",
        "    print(name, \"has shape\", param.shape)\n",
        "\n",
        "\n",
        "# Print only the weights of the second hidden layer\n",
        "print(\"\\nWeights of second hidden layer (fc2):\")\n",
        "print(model.fc2.weight)"
      ],
      "metadata": {
        "colab": {
          "base_uri": "https://localhost:8080/"
        },
        "id": "1bWFXEZMFBI1",
        "outputId": "09a6cf27-f783-4a73-efdf-00a88cdfe76d"
      },
      "execution_count": null,
      "outputs": [
        {
          "output_type": "stream",
          "name": "stdout",
          "text": [
            "RiskNN(\n",
            "  (fc1): Linear(in_features=5, out_features=10, bias=True)\n",
            "  (fc2): Linear(in_features=10, out_features=5, bias=True)\n",
            "  (fc3): Linear(in_features=5, out_features=1, bias=True)\n",
            "  (relu): ReLU()\n",
            "  (sigmoid): Sigmoid()\n",
            ")\n",
            "fc1.weight has shape torch.Size([10, 5])\n",
            "fc1.bias has shape torch.Size([10])\n",
            "fc2.weight has shape torch.Size([5, 10])\n",
            "fc2.bias has shape torch.Size([5])\n",
            "fc3.weight has shape torch.Size([1, 5])\n",
            "fc3.bias has shape torch.Size([1])\n",
            "\n",
            "Weights of second hidden layer (fc2):\n",
            "Parameter containing:\n",
            "tensor([[-0.0535, -0.1062, -0.1485,  0.2040, -0.1720, -0.0558,  0.1595,  0.0319,\n",
            "         -0.2661, -0.3144],\n",
            "        [-0.1537,  0.2917, -0.2248,  0.1743,  0.2264, -0.1311, -0.1396, -0.2275,\n",
            "          0.0493, -0.0442],\n",
            "        [ 0.0154,  0.1372,  0.1328, -0.0998,  0.0217,  0.0751,  0.0067,  0.0633,\n",
            "         -0.1281,  0.2592],\n",
            "        [-0.0324, -0.0405, -0.2838, -0.2292,  0.0098, -0.0489, -0.1590,  0.1655,\n",
            "         -0.0283,  0.1112],\n",
            "        [ 0.2663, -0.1454, -0.1556, -0.0635, -0.0268, -0.1582, -0.0759, -0.0091,\n",
            "          0.1418,  0.2926]], requires_grad=True)\n"
          ]
        }
      ]
    },
    {
      "cell_type": "markdown",
      "source": [
        "## **Task-3**\n",
        "\n",
        "### **Binary Classification**"
      ],
      "metadata": {
        "id": "DV_Bv1txZiPB"
      }
    },
    {
      "cell_type": "markdown",
      "source": [
        "You are asked to build a simple classification network called SpamDetector to detect whether an email is spam (1) or not (0).\n",
        "\n",
        "Define the model with this structure:\n",
        "\n",
        "**Input layer:** 6 features\n",
        "\n",
        "**Hidden layer:** 3 neurons, ReLU activation\n",
        "\n",
        "**Output layer:** 1 neuron, Sigmoid activation\n",
        "\n",
        "Generate random input data and labels:\n",
        "\n",
        "\n",
        "**X = torch.randn(50, 6)**\n",
        "\n",
        "**y = torch.randint(0, 2, (50, 1)).float()**\n",
        "\n",
        "**Use:**\n",
        "\n",
        "**Loss:** torch.nn.BCELoss()\n",
        "\n",
        "**Optimizer:** torch.optim.Adam(model.parameters(), lr=0.01)\n",
        "\n",
        "Train for 5 epochs and print loss each time."
      ],
      "metadata": {
        "id": "8CcIgWhqZlub"
      }
    },
    {
      "cell_type": "code",
      "source": [
        "#y = torch.randint(0, 2, (50, 1)).float()\n",
        "\n",
        "# -> torch.randint(0, 2, (50, 1))\n",
        "# -> Creates a tensor of random integers.\n",
        "# -> The numbers will be between 0 (inclusive) and 2 (exclusive) → so only 0 or 1.\n",
        "# -> Shape (50, 1) → means 50 rows and 1 column, so you get 50 binary labels.\n",
        "\n",
        "#.float()\n",
        "# -> Converts the data type from integer (0 or 1) to float (0.0 or 1.0)."
      ],
      "metadata": {
        "id": "zyKWNnurFBLW"
      },
      "execution_count": null,
      "outputs": []
    },
    {
      "cell_type": "code",
      "source": [
        "import torch\n",
        "import torch.nn as nn\n",
        "\n",
        "# Step 1: Define the model\n",
        "class SpamDetector(nn.Module):\n",
        "    def __init__(self):\n",
        "        super(SpamDetector, self).__init__()\n",
        "        self.fc1 = nn.Linear(6, 3)   # Input layer → Hidden layer\n",
        "        self.fc2 = nn.Linear(3, 1)   # Hidden layer → Output layer\n",
        "\n",
        "    def forward(self, x):\n",
        "        x = torch.relu(self.fc1(x))\n",
        "        x = torch.sigmoid(self.fc2(x))  # Sigmoid for binary output\n",
        "        return x\n",
        "\n",
        "# Step 2: Generate random data\n",
        "X = torch.randn(50, 6)                 # 50 samples, 6 features\n",
        "y = torch.randint(0, 2, (50, 1)).float()  # 50 binary labels (0 or 1)\n",
        "\n",
        "# Step 3: Set up loss and optimizer\n",
        "model = SpamDetector()\n",
        "criterion = nn.BCELoss()\n",
        "optimizer = torch.optim.Adam(model.parameters(), lr=0.01)\n",
        "\n",
        "# Step 4: Training loop\n",
        "for epoch in range(1, 6):  # 5 epochs\n",
        "    # Forward pass\n",
        "    preds = model(X)\n",
        "    loss = criterion(preds, y)\n",
        "\n",
        "    # Backpropagation\n",
        "    optimizer.zero_grad()\n",
        "    loss.backward()\n",
        "    optimizer.step()\n",
        "\n",
        "    print(f\"Epoch {epoch}: Loss = {loss.item():.4f}\")"
      ],
      "metadata": {
        "colab": {
          "base_uri": "https://localhost:8080/"
        },
        "id": "mRwVwCE_FBOG",
        "outputId": "ad66cf79-a19b-4029-9b01-4d99bc7a4cc1"
      },
      "execution_count": null,
      "outputs": [
        {
          "output_type": "stream",
          "name": "stdout",
          "text": [
            "Epoch 1: Loss = 0.7292\n",
            "Epoch 2: Loss = 0.7252\n",
            "Epoch 3: Loss = 0.7215\n",
            "Epoch 4: Loss = 0.7182\n",
            "Epoch 5: Loss = 0.7151\n"
          ]
        }
      ]
    },
    {
      "cell_type": "code",
      "source": [],
      "metadata": {
        "id": "jX4G0d8VFBQr"
      },
      "execution_count": null,
      "outputs": []
    },
    {
      "cell_type": "code",
      "source": [],
      "metadata": {
        "id": "lrdvYU9EFBTl"
      },
      "execution_count": null,
      "outputs": []
    },
    {
      "cell_type": "code",
      "source": [],
      "metadata": {
        "id": "rNPqGyggFBV_"
      },
      "execution_count": null,
      "outputs": []
    },
    {
      "cell_type": "code",
      "source": [],
      "metadata": {
        "id": "dfSAfrfEFBYz"
      },
      "execution_count": null,
      "outputs": []
    },
    {
      "cell_type": "code",
      "source": [],
      "metadata": {
        "id": "1yK22k6YFBbw"
      },
      "execution_count": null,
      "outputs": []
    }
  ]
}
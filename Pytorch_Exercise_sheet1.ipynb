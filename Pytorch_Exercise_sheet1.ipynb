{
  "nbformat": 4,
  "nbformat_minor": 0,
  "metadata": {
    "colab": {
      "provenance": [],
      "toc_visible": true,
      "authorship_tag": "ABX9TyNlrNwxiQlBS5bqzm8fWqX4",
      "include_colab_link": true
    },
    "kernelspec": {
      "name": "python3",
      "display_name": "Python 3"
    },
    "language_info": {
      "name": "python"
    }
  },
  "cells": [
    {
      "cell_type": "markdown",
      "metadata": {
        "id": "view-in-github",
        "colab_type": "text"
      },
      "source": [
        "<a href=\"https://colab.research.google.com/github/fouziasharkar/Programming-and-Systems-Development-/blob/main/Pytorch_Exercise_sheet1.ipynb\" target=\"_parent\"><img src=\"https://colab.research.google.com/assets/colab-badge.svg\" alt=\"Open In Colab\"/></a>"
      ]
    },
    {
      "cell_type": "code",
      "execution_count": 3,
      "metadata": {
        "colab": {
          "base_uri": "https://localhost:8080/"
        },
        "id": "IB8ujK3GGdTU",
        "outputId": "7a83f216-3953-412c-a6b0-bd11d850615e"
      },
      "outputs": [
        {
          "output_type": "stream",
          "name": "stdout",
          "text": [
            "2.8.0+cu126\n"
          ]
        }
      ],
      "source": [
        "import torch\n",
        "print(torch.__version__)\n",
        "\n",
        "import torch.nn as nn"
      ]
    },
    {
      "cell_type": "code",
      "source": [
        "#Task-1: Define a simple feedforward neural network using nn.Module."
      ],
      "metadata": {
        "id": "mAkk67JZY-kT"
      },
      "execution_count": null,
      "outputs": []
    },
    {
      "cell_type": "code",
      "source": [
        "class SimpleNN(nn.Module):\n",
        "    def __init__(self):\n",
        "        super(SimpleNN, self).__init__()\n",
        "        self.fc1 = nn.Linear(784, 128)  # Input layer\n",
        "        self.fc2 = nn.Linear(128, 64)   # Hidden layer\n",
        "        self.fc3 = nn.Linear(64, 10)    # Output layer\n",
        "\n",
        "    def forward(self, x):\n",
        "        x = torch.relu(self.fc1(x))\n",
        "        x = torch.relu(self.fc2(x))\n",
        "        x = torch.softmax(self.fc3(x))\n",
        "        return x\n",
        "\n",
        "# Instantiate the network\n",
        "model = SimpleNN()\n",
        "print(model)\n"
      ],
      "metadata": {
        "colab": {
          "base_uri": "https://localhost:8080/"
        },
        "id": "RziQwvF2HCT0",
        "outputId": "d5809fa2-c426-4f68-8dce-3d0146eee1b3"
      },
      "execution_count": null,
      "outputs": [
        {
          "output_type": "stream",
          "name": "stdout",
          "text": [
            "SimpleNN(\n",
            "  (fc1): Linear(in_features=784, out_features=128, bias=True)\n",
            "  (fc2): Linear(in_features=128, out_features=64, bias=True)\n",
            "  (fc3): Linear(in_features=64, out_features=10, bias=True)\n",
            ")\n"
          ]
        }
      ]
    },
    {
      "cell_type": "markdown",
      "source": [
        "# **Mnist Dataset**"
      ],
      "metadata": {
        "id": "l_nq1Ip_bDjV"
      }
    },
    {
      "cell_type": "code",
      "source": [
        "#Task-2: Train the neural network on a simple dataset, such as MNIST."
      ],
      "metadata": {
        "id": "_tXxPFVfHCW2"
      },
      "execution_count": 2,
      "outputs": []
    },
    {
      "cell_type": "code",
      "source": [
        "import torch.optim as optim\n",
        "import torch.nn.functional as F\n",
        "from torchvision import datasets, transforms\n",
        "\n",
        "# Load the MNIST dataset\n",
        "transform = transforms.Compose([transforms.ToTensor()]) # transforms.ToTensor() -> converts each image\n",
        "                                                        #(which is like a PIL image or NumPy array)\n",
        "                                                        # into a PyTorch tensor with values between 0 and 1.\n",
        "trainset = datasets.MNIST(root='./data', train=True, download=True, transform=transform)\n",
        "trainloader = torch.utils.data.DataLoader(trainset, batch_size=32, shuffle=True)\n",
        "\n",
        "# Define the loss function and optimizer\n",
        "criterion = nn.CrossEntropyLoss()\n",
        "optimizer = optim.SGD(model.parameters(), lr=0.01)\n",
        "\n",
        "# Training loop\n",
        "for epoch in range(1, 6):  # 5 epochs\n",
        "    running_loss = 0.0\n",
        "    for images, labels in trainloader:\n",
        "        # Flatten the images into vectors\n",
        "        # view -> er jaygay reshape o use kora jabe. basically reshaping the data\n",
        "        images = images.view(images.shape[0], -1)\n",
        "\n",
        "        # Zero the parameter gradients\n",
        "        optimizer.zero_grad()\n",
        "\n",
        "        # Forward pass\n",
        "        outputs = model(images)\n",
        "\n",
        "        # Compute loss\n",
        "        loss = criterion(outputs, labels)\n",
        "\n",
        "        # Backward pass and optimization\n",
        "        loss.backward()\n",
        "        optimizer.step()\n",
        "\n",
        "        # Update running loss\n",
        "        running_loss += loss.item()\n",
        "\n",
        "    print(f\"Epoch {epoch}, Loss: {running_loss/len(trainloader)}\")\n"
      ],
      "metadata": {
        "colab": {
          "base_uri": "https://localhost:8080/"
        },
        "id": "rf28OwXqHCZh",
        "outputId": "add1c67d-38b4-43a1-d820-a80149338142"
      },
      "execution_count": null,
      "outputs": [
        {
          "output_type": "stream",
          "name": "stderr",
          "text": [
            "100%|██████████| 9.91M/9.91M [00:00<00:00, 42.7MB/s]\n",
            "100%|██████████| 28.9k/28.9k [00:00<00:00, 1.04MB/s]\n",
            "100%|██████████| 1.65M/1.65M [00:00<00:00, 9.10MB/s]\n",
            "100%|██████████| 4.54k/4.54k [00:00<00:00, 10.2MB/s]\n"
          ]
        },
        {
          "output_type": "stream",
          "name": "stdout",
          "text": [
            "Epoch 1, Loss: 2.2990555803934734\n",
            "Epoch 2, Loss: 2.2609285026550294\n",
            "Epoch 3, Loss: 2.099961457824707\n",
            "Epoch 4, Loss: 1.8650493309020997\n",
            "Epoch 5, Loss: 1.7337298628489177\n"
          ]
        }
      ]
    },
    {
      "cell_type": "code",
      "source": [
        "# Task: Evaluate the trained model on a validation set."
      ],
      "metadata": {
        "id": "s3kURUhJHCcY"
      },
      "execution_count": null,
      "outputs": []
    },
    {
      "cell_type": "code",
      "source": [
        "#train=False → this time we use the testing data (10,000 unseen images).\n",
        "#transform=transform → convert images to tensors (same as training).\n",
        "testset = datasets.MNIST(root='./data', train=False, download=True, transform=transform)\n",
        "\n",
        "#Feeds the test data in small batches of 32 images.\n",
        "#shuffle=False because we don’t need random order during testing.\n",
        "testloader = torch.utils.data.DataLoader(testset, batch_size=32, shuffle=False)\n",
        "\n",
        "#total → how many images we checked in total.\n",
        "#correct → how many predictions the model got right.\n",
        "correct = 0\n",
        "total = 0\n",
        "\n",
        "with torch.no_grad(): #We’re not training now, so no need to calculate gradients — saves memory and time.\n",
        "    for images, labels in testloader:\n",
        "        images = images.view(images.shape[0], -1)\n",
        "        outputs = model(images)\n",
        "\n",
        "        #torch.max finds the index of the highest value in each output →\n",
        "        # that’s the digit the model thinks is correct.\n",
        "        # Example: if [0.1, 0.3, 0.05, 0.9, ...] → prediction = 3.\n",
        "        _, predicted = torch.max(outputs.data, 1)\n",
        "        total += labels.size(0)\n",
        "        correct += (predicted == labels).sum().item()\n",
        "\n",
        "\n",
        "#Calculates the percentage of images the model predicted correctly.\n",
        "# Accuracy= (correct predictions/total images)*100\n",
        "# 🧠 Example: If 9,300 out of 10,000 test images were correct → Accuracy = 93%\n",
        "print(f\"Accuracy: {100 * correct / total}%\")\n"
      ],
      "metadata": {
        "colab": {
          "base_uri": "https://localhost:8080/"
        },
        "id": "Jf0uHQgoHCe6",
        "outputId": "cdf21f45-a115-4dcd-cda1-a107c6741c36"
      },
      "execution_count": null,
      "outputs": [
        {
          "output_type": "stream",
          "name": "stdout",
          "text": [
            "Accuracy: 81.6%\n"
          ]
        }
      ]
    },
    {
      "cell_type": "markdown",
      "source": [
        "# **Exercise 5: Cifar-10 dataset**"
      ],
      "metadata": {
        "id": "sOdATSrHcLCi"
      }
    },
    {
      "cell_type": "code",
      "source": [
        "#Task: Implement a Convolutional Neural Network (CNN) using PyTorch and train it on the CIFAR-10 dataset"
      ],
      "metadata": {
        "id": "_RqEPNbTcGuE"
      },
      "execution_count": null,
      "outputs": []
    },
    {
      "cell_type": "code",
      "source": [
        "import torch\n",
        "import torchvision\n",
        "import torchvision.transforms as transforms\n"
      ],
      "metadata": {
        "id": "SuPOXxDBcGxW"
      },
      "execution_count": null,
      "outputs": []
    },
    {
      "cell_type": "code",
      "source": [
        "# Define a transformation to apply to the images\n",
        "#Normalize((0.5, 0.5, 0.5), (0.5, 0.5, 0.5)) → adjusts color values so they’re centered around zero.\n",
        "                  # -> The first (0.5, 0.5, 0.5) = mean of each color channel (Red, Green, Blue).\n",
        "                  # -> The second (0.5, 0.5, 0.5) = standard deviation for each channel.\n",
        "transform = transforms.Compose([\n",
        "    transforms.ToTensor(),\n",
        "    transforms.Normalize((0.5, 0.5, 0.5), (0.5, 0.5, 0.5))\n",
        "])\n",
        "\n",
        "# Download and load the training dataset\n",
        "trainset = torchvision.datasets.CIFAR10(root='./data', train=True, download=True, transform=transform)\n",
        "trainloader = torch.utils.data.DataLoader(trainset, batch_size=32, shuffle=True)\n",
        "\n",
        "# Download and load the training dataset\n",
        "trainset = torchvision.datasets.CIFAR10(root='./data', train=True, download=True, transform=transform)\n",
        "trainloader = torch.utils.data.DataLoader(trainset, batch_size=32, shuffle=True)\n"
      ],
      "metadata": {
        "colab": {
          "base_uri": "https://localhost:8080/"
        },
        "id": "QVFKuKGjcG0s",
        "outputId": "0670b3da-d5ff-4c92-ef8c-110c920b8e75"
      },
      "execution_count": null,
      "outputs": [
        {
          "output_type": "stream",
          "name": "stderr",
          "text": [
            "100%|██████████| 170M/170M [00:02<00:00, 69.4MB/s]\n"
          ]
        }
      ]
    },
    {
      "cell_type": "code",
      "source": [
        "# Download and load the test dataset\n",
        "testset = torchvision.datasets.CIFAR10(root='./data', train=False, download=True, transform=transform)\n",
        "testloader = torch.utils.data.DataLoader(testset, batch_size=32, shuffle=False)\n",
        "\n",
        "# Classes in CIFAR-10\n",
        "classes = ('plane', 'car', 'bird', 'cat', 'deer', 'dog', 'frog', 'horse', 'ship', 'truck')\n"
      ],
      "metadata": {
        "id": "jPfmj0nRcG4W"
      },
      "execution_count": null,
      "outputs": []
    },
    {
      "cell_type": "markdown",
      "source": [
        "# **Cifar-100 Dataset**"
      ],
      "metadata": {
        "id": "VR-Hx6YefxUQ"
      }
    },
    {
      "cell_type": "code",
      "source": [
        "trainset = torchvision.datasets.CIFAR100(root='./data', train=True, download=True, transform=transform)\n",
        "testset = torchvision.datasets.CIFAR100(root='./data', train=False, download=True, transform=transform)\n"
      ],
      "metadata": {
        "colab": {
          "base_uri": "https://localhost:8080/"
        },
        "id": "Ue1wh9hpcG7F",
        "outputId": "fc4a9ee4-c6e5-4012-def0-b0f14f528a2b"
      },
      "execution_count": null,
      "outputs": [
        {
          "output_type": "stream",
          "name": "stderr",
          "text": [
            "100%|██████████| 169M/169M [00:01<00:00, 90.4MB/s]\n"
          ]
        }
      ]
    },
    {
      "cell_type": "code",
      "source": [
        "# Task: Implement transfer learning by fine-tuning a pretrained model like ResNet on a custom dataset."
      ],
      "metadata": {
        "id": "FFzyFILncG-_"
      },
      "execution_count": null,
      "outputs": []
    },
    {
      "cell_type": "code",
      "source": [
        "import torch\n",
        "import torch.nn as nn\n",
        "import torch.optim as optim\n",
        "import torchvision\n",
        "import torchvision.transforms as transforms\n",
        "from torchvision import models #models → contains famous CNNs like ResNet, VGG, etc.\n",
        "\n",
        "# 1️⃣ Define image transformations (same as before)\n",
        "transform = transforms.Compose([\n",
        "    transforms.Resize(224),  # Resize for ResNet input\n",
        "    transforms.ToTensor(),\n",
        "    transforms.Normalize((0.5, 0.5, 0.5), (0.5, 0.5, 0.5))\n",
        "])\n",
        "\n",
        "# 2️⃣ Load CIFAR-100 dataset\n",
        "trainset = torchvision.datasets.CIFAR100(root='./data', train=True, download=True, transform=transform)\n",
        "trainloader = torch.utils.data.DataLoader(trainset, batch_size=32, shuffle=True)\n",
        "\n",
        "testset = torchvision.datasets.CIFAR100(root='./data', train=False, download=True, transform=transform)\n",
        "testloader = torch.utils.data.DataLoader(testset, batch_size=32, shuffle=False)\n",
        "\n",
        "# 3️⃣ Load a pretrained ResNet model\n",
        "model = models.resnet18(pretrained=True)  # use ResNet-18\n",
        "\n",
        "# 4️⃣ Freeze all layers so we don’t retrain the whole network\n",
        "for param in model.parameters():\n",
        "    param.requires_grad = False\n",
        "\n",
        "# 5️⃣ Replace the final layer to match CIFAR-100 (100 classes)\n",
        "num_features = model.fc.in_features\n",
        "model.fc = nn.Linear(num_features, 100)  # CIFAR-100 has 100 classes\n",
        "\n",
        "# 6️⃣ Define loss and optimizer\n",
        "criterion = nn.CrossEntropyLoss()\n",
        "optimizer = optim.Adam(model.fc.parameters(), lr=0.001)  # only train final layer\n",
        "\n",
        "# 7️⃣ Training loop\n",
        "for epoch in range(1, 6):  # 5 epochs\n",
        "    running_loss = 0.0\n",
        "    for images, labels in trainloader:\n",
        "        optimizer.zero_grad()\n",
        "        outputs = model(images)\n",
        "        loss = criterion(outputs, labels)\n",
        "        loss.backward()\n",
        "        optimizer.step()\n",
        "        running_loss += loss.item()\n",
        "    print(f\"Epoch {epoch}, Loss: {running_loss/len(trainloader):.4f}\")\n",
        "\n",
        "# 8️⃣ Testing loop\n",
        "correct = 0\n",
        "total = 0\n",
        "with torch.no_grad():\n",
        "    for images, labels in testloader:\n",
        "        outputs = model(images)\n",
        "        _, predicted = torch.max(outputs.data, 1)\n",
        "        total += labels.size(0)\n",
        "        correct += (predicted == labels).sum().item()\n",
        "\n",
        "print(f\"Accuracy: {100 * correct / total:.2f}%\")"
      ],
      "metadata": {
        "colab": {
          "base_uri": "https://localhost:8080/",
          "height": 480
        },
        "id": "jfkIWXrBcHCQ",
        "outputId": "f2f6e652-e58a-4080-a5e4-25755584bace"
      },
      "execution_count": null,
      "outputs": [
        {
          "output_type": "stream",
          "name": "stderr",
          "text": [
            "/usr/local/lib/python3.12/dist-packages/torchvision/models/_utils.py:208: UserWarning: The parameter 'pretrained' is deprecated since 0.13 and may be removed in the future, please use 'weights' instead.\n",
            "  warnings.warn(\n",
            "/usr/local/lib/python3.12/dist-packages/torchvision/models/_utils.py:223: UserWarning: Arguments other than a weight enum or `None` for 'weights' are deprecated since 0.13 and may be removed in the future. The current behavior is equivalent to passing `weights=ResNet18_Weights.IMAGENET1K_V1`. You can also use `weights=ResNet18_Weights.DEFAULT` to get the most up-to-date weights.\n",
            "  warnings.warn(msg)\n"
          ]
        },
        {
          "output_type": "stream",
          "name": "stdout",
          "text": [
            "Downloading: \"https://download.pytorch.org/models/resnet18-f37072fd.pth\" to /root/.cache/torch/hub/checkpoints/resnet18-f37072fd.pth\n"
          ]
        },
        {
          "output_type": "stream",
          "name": "stderr",
          "text": [
            "100%|██████████| 44.7M/44.7M [00:00<00:00, 144MB/s]\n"
          ]
        },
        {
          "output_type": "error",
          "ename": "KeyboardInterrupt",
          "evalue": "",
          "traceback": [
            "\u001b[0;31m---------------------------------------------------------------------------\u001b[0m",
            "\u001b[0;31mKeyboardInterrupt\u001b[0m                         Traceback (most recent call last)",
            "\u001b[0;32m/tmp/ipython-input-867194961.py\u001b[0m in \u001b[0;36m<cell line: 0>\u001b[0;34m()\u001b[0m\n\u001b[1;32m     40\u001b[0m     \u001b[0;32mfor\u001b[0m \u001b[0mimages\u001b[0m\u001b[0;34m,\u001b[0m \u001b[0mlabels\u001b[0m \u001b[0;32min\u001b[0m \u001b[0mtrainloader\u001b[0m\u001b[0;34m:\u001b[0m\u001b[0;34m\u001b[0m\u001b[0;34m\u001b[0m\u001b[0m\n\u001b[1;32m     41\u001b[0m         \u001b[0moptimizer\u001b[0m\u001b[0;34m.\u001b[0m\u001b[0mzero_grad\u001b[0m\u001b[0;34m(\u001b[0m\u001b[0;34m)\u001b[0m\u001b[0;34m\u001b[0m\u001b[0;34m\u001b[0m\u001b[0m\n\u001b[0;32m---> 42\u001b[0;31m         \u001b[0moutputs\u001b[0m \u001b[0;34m=\u001b[0m \u001b[0mmodel\u001b[0m\u001b[0;34m(\u001b[0m\u001b[0mimages\u001b[0m\u001b[0;34m)\u001b[0m\u001b[0;34m\u001b[0m\u001b[0;34m\u001b[0m\u001b[0m\n\u001b[0m\u001b[1;32m     43\u001b[0m         \u001b[0mloss\u001b[0m \u001b[0;34m=\u001b[0m \u001b[0mcriterion\u001b[0m\u001b[0;34m(\u001b[0m\u001b[0moutputs\u001b[0m\u001b[0;34m,\u001b[0m \u001b[0mlabels\u001b[0m\u001b[0;34m)\u001b[0m\u001b[0;34m\u001b[0m\u001b[0;34m\u001b[0m\u001b[0m\n\u001b[1;32m     44\u001b[0m         \u001b[0mloss\u001b[0m\u001b[0;34m.\u001b[0m\u001b[0mbackward\u001b[0m\u001b[0;34m(\u001b[0m\u001b[0;34m)\u001b[0m\u001b[0;34m\u001b[0m\u001b[0;34m\u001b[0m\u001b[0m\n",
            "\u001b[0;32m/usr/local/lib/python3.12/dist-packages/torch/nn/modules/module.py\u001b[0m in \u001b[0;36m_wrapped_call_impl\u001b[0;34m(self, *args, **kwargs)\u001b[0m\n\u001b[1;32m   1771\u001b[0m             \u001b[0;32mreturn\u001b[0m \u001b[0mself\u001b[0m\u001b[0;34m.\u001b[0m\u001b[0m_compiled_call_impl\u001b[0m\u001b[0;34m(\u001b[0m\u001b[0;34m*\u001b[0m\u001b[0margs\u001b[0m\u001b[0;34m,\u001b[0m \u001b[0;34m**\u001b[0m\u001b[0mkwargs\u001b[0m\u001b[0;34m)\u001b[0m  \u001b[0;31m# type: ignore[misc]\u001b[0m\u001b[0;34m\u001b[0m\u001b[0;34m\u001b[0m\u001b[0m\n\u001b[1;32m   1772\u001b[0m         \u001b[0;32melse\u001b[0m\u001b[0;34m:\u001b[0m\u001b[0;34m\u001b[0m\u001b[0;34m\u001b[0m\u001b[0m\n\u001b[0;32m-> 1773\u001b[0;31m             \u001b[0;32mreturn\u001b[0m \u001b[0mself\u001b[0m\u001b[0;34m.\u001b[0m\u001b[0m_call_impl\u001b[0m\u001b[0;34m(\u001b[0m\u001b[0;34m*\u001b[0m\u001b[0margs\u001b[0m\u001b[0;34m,\u001b[0m \u001b[0;34m**\u001b[0m\u001b[0mkwargs\u001b[0m\u001b[0;34m)\u001b[0m\u001b[0;34m\u001b[0m\u001b[0;34m\u001b[0m\u001b[0m\n\u001b[0m\u001b[1;32m   1774\u001b[0m \u001b[0;34m\u001b[0m\u001b[0m\n\u001b[1;32m   1775\u001b[0m     \u001b[0;31m# torchrec tests the code consistency with the following code\u001b[0m\u001b[0;34m\u001b[0m\u001b[0;34m\u001b[0m\u001b[0m\n",
            "\u001b[0;32m/usr/local/lib/python3.12/dist-packages/torch/nn/modules/module.py\u001b[0m in \u001b[0;36m_call_impl\u001b[0;34m(self, *args, **kwargs)\u001b[0m\n\u001b[1;32m   1782\u001b[0m                 \u001b[0;32mor\u001b[0m \u001b[0m_global_backward_pre_hooks\u001b[0m \u001b[0;32mor\u001b[0m \u001b[0m_global_backward_hooks\u001b[0m\u001b[0;34m\u001b[0m\u001b[0;34m\u001b[0m\u001b[0m\n\u001b[1;32m   1783\u001b[0m                 or _global_forward_hooks or _global_forward_pre_hooks):\n\u001b[0;32m-> 1784\u001b[0;31m             \u001b[0;32mreturn\u001b[0m \u001b[0mforward_call\u001b[0m\u001b[0;34m(\u001b[0m\u001b[0;34m*\u001b[0m\u001b[0margs\u001b[0m\u001b[0;34m,\u001b[0m \u001b[0;34m**\u001b[0m\u001b[0mkwargs\u001b[0m\u001b[0;34m)\u001b[0m\u001b[0;34m\u001b[0m\u001b[0;34m\u001b[0m\u001b[0m\n\u001b[0m\u001b[1;32m   1785\u001b[0m \u001b[0;34m\u001b[0m\u001b[0m\n\u001b[1;32m   1786\u001b[0m         \u001b[0mresult\u001b[0m \u001b[0;34m=\u001b[0m \u001b[0;32mNone\u001b[0m\u001b[0;34m\u001b[0m\u001b[0;34m\u001b[0m\u001b[0m\n",
            "\u001b[0;32m/usr/local/lib/python3.12/dist-packages/torchvision/models/resnet.py\u001b[0m in \u001b[0;36mforward\u001b[0;34m(self, x)\u001b[0m\n\u001b[1;32m    283\u001b[0m \u001b[0;34m\u001b[0m\u001b[0m\n\u001b[1;32m    284\u001b[0m     \u001b[0;32mdef\u001b[0m \u001b[0mforward\u001b[0m\u001b[0;34m(\u001b[0m\u001b[0mself\u001b[0m\u001b[0;34m,\u001b[0m \u001b[0mx\u001b[0m\u001b[0;34m:\u001b[0m \u001b[0mTensor\u001b[0m\u001b[0;34m)\u001b[0m \u001b[0;34m->\u001b[0m \u001b[0mTensor\u001b[0m\u001b[0;34m:\u001b[0m\u001b[0;34m\u001b[0m\u001b[0;34m\u001b[0m\u001b[0m\n\u001b[0;32m--> 285\u001b[0;31m         \u001b[0;32mreturn\u001b[0m \u001b[0mself\u001b[0m\u001b[0;34m.\u001b[0m\u001b[0m_forward_impl\u001b[0m\u001b[0;34m(\u001b[0m\u001b[0mx\u001b[0m\u001b[0;34m)\u001b[0m\u001b[0;34m\u001b[0m\u001b[0;34m\u001b[0m\u001b[0m\n\u001b[0m\u001b[1;32m    286\u001b[0m \u001b[0;34m\u001b[0m\u001b[0m\n\u001b[1;32m    287\u001b[0m \u001b[0;34m\u001b[0m\u001b[0m\n",
            "\u001b[0;32m/usr/local/lib/python3.12/dist-packages/torchvision/models/resnet.py\u001b[0m in \u001b[0;36m_forward_impl\u001b[0;34m(self, x)\u001b[0m\n\u001b[1;32m    266\u001b[0m     \u001b[0;32mdef\u001b[0m \u001b[0m_forward_impl\u001b[0m\u001b[0;34m(\u001b[0m\u001b[0mself\u001b[0m\u001b[0;34m,\u001b[0m \u001b[0mx\u001b[0m\u001b[0;34m:\u001b[0m \u001b[0mTensor\u001b[0m\u001b[0;34m)\u001b[0m \u001b[0;34m->\u001b[0m \u001b[0mTensor\u001b[0m\u001b[0;34m:\u001b[0m\u001b[0;34m\u001b[0m\u001b[0;34m\u001b[0m\u001b[0m\n\u001b[1;32m    267\u001b[0m         \u001b[0;31m# See note [TorchScript super()]\u001b[0m\u001b[0;34m\u001b[0m\u001b[0;34m\u001b[0m\u001b[0m\n\u001b[0;32m--> 268\u001b[0;31m         \u001b[0mx\u001b[0m \u001b[0;34m=\u001b[0m \u001b[0mself\u001b[0m\u001b[0;34m.\u001b[0m\u001b[0mconv1\u001b[0m\u001b[0;34m(\u001b[0m\u001b[0mx\u001b[0m\u001b[0;34m)\u001b[0m\u001b[0;34m\u001b[0m\u001b[0;34m\u001b[0m\u001b[0m\n\u001b[0m\u001b[1;32m    269\u001b[0m         \u001b[0mx\u001b[0m \u001b[0;34m=\u001b[0m \u001b[0mself\u001b[0m\u001b[0;34m.\u001b[0m\u001b[0mbn1\u001b[0m\u001b[0;34m(\u001b[0m\u001b[0mx\u001b[0m\u001b[0;34m)\u001b[0m\u001b[0;34m\u001b[0m\u001b[0;34m\u001b[0m\u001b[0m\n\u001b[1;32m    270\u001b[0m         \u001b[0mx\u001b[0m \u001b[0;34m=\u001b[0m \u001b[0mself\u001b[0m\u001b[0;34m.\u001b[0m\u001b[0mrelu\u001b[0m\u001b[0;34m(\u001b[0m\u001b[0mx\u001b[0m\u001b[0;34m)\u001b[0m\u001b[0;34m\u001b[0m\u001b[0;34m\u001b[0m\u001b[0m\n",
            "\u001b[0;32m/usr/local/lib/python3.12/dist-packages/torch/nn/modules/module.py\u001b[0m in \u001b[0;36m_wrapped_call_impl\u001b[0;34m(self, *args, **kwargs)\u001b[0m\n\u001b[1;32m   1771\u001b[0m             \u001b[0;32mreturn\u001b[0m \u001b[0mself\u001b[0m\u001b[0;34m.\u001b[0m\u001b[0m_compiled_call_impl\u001b[0m\u001b[0;34m(\u001b[0m\u001b[0;34m*\u001b[0m\u001b[0margs\u001b[0m\u001b[0;34m,\u001b[0m \u001b[0;34m**\u001b[0m\u001b[0mkwargs\u001b[0m\u001b[0;34m)\u001b[0m  \u001b[0;31m# type: ignore[misc]\u001b[0m\u001b[0;34m\u001b[0m\u001b[0;34m\u001b[0m\u001b[0m\n\u001b[1;32m   1772\u001b[0m         \u001b[0;32melse\u001b[0m\u001b[0;34m:\u001b[0m\u001b[0;34m\u001b[0m\u001b[0;34m\u001b[0m\u001b[0m\n\u001b[0;32m-> 1773\u001b[0;31m             \u001b[0;32mreturn\u001b[0m \u001b[0mself\u001b[0m\u001b[0;34m.\u001b[0m\u001b[0m_call_impl\u001b[0m\u001b[0;34m(\u001b[0m\u001b[0;34m*\u001b[0m\u001b[0margs\u001b[0m\u001b[0;34m,\u001b[0m \u001b[0;34m**\u001b[0m\u001b[0mkwargs\u001b[0m\u001b[0;34m)\u001b[0m\u001b[0;34m\u001b[0m\u001b[0;34m\u001b[0m\u001b[0m\n\u001b[0m\u001b[1;32m   1774\u001b[0m \u001b[0;34m\u001b[0m\u001b[0m\n\u001b[1;32m   1775\u001b[0m     \u001b[0;31m# torchrec tests the code consistency with the following code\u001b[0m\u001b[0;34m\u001b[0m\u001b[0;34m\u001b[0m\u001b[0m\n",
            "\u001b[0;32m/usr/local/lib/python3.12/dist-packages/torch/nn/modules/module.py\u001b[0m in \u001b[0;36m_call_impl\u001b[0;34m(self, *args, **kwargs)\u001b[0m\n\u001b[1;32m   1782\u001b[0m                 \u001b[0;32mor\u001b[0m \u001b[0m_global_backward_pre_hooks\u001b[0m \u001b[0;32mor\u001b[0m \u001b[0m_global_backward_hooks\u001b[0m\u001b[0;34m\u001b[0m\u001b[0;34m\u001b[0m\u001b[0m\n\u001b[1;32m   1783\u001b[0m                 or _global_forward_hooks or _global_forward_pre_hooks):\n\u001b[0;32m-> 1784\u001b[0;31m             \u001b[0;32mreturn\u001b[0m \u001b[0mforward_call\u001b[0m\u001b[0;34m(\u001b[0m\u001b[0;34m*\u001b[0m\u001b[0margs\u001b[0m\u001b[0;34m,\u001b[0m \u001b[0;34m**\u001b[0m\u001b[0mkwargs\u001b[0m\u001b[0;34m)\u001b[0m\u001b[0;34m\u001b[0m\u001b[0;34m\u001b[0m\u001b[0m\n\u001b[0m\u001b[1;32m   1785\u001b[0m \u001b[0;34m\u001b[0m\u001b[0m\n\u001b[1;32m   1786\u001b[0m         \u001b[0mresult\u001b[0m \u001b[0;34m=\u001b[0m \u001b[0;32mNone\u001b[0m\u001b[0;34m\u001b[0m\u001b[0;34m\u001b[0m\u001b[0m\n",
            "\u001b[0;32m/usr/local/lib/python3.12/dist-packages/torch/nn/modules/conv.py\u001b[0m in \u001b[0;36mforward\u001b[0;34m(self, input)\u001b[0m\n\u001b[1;32m    546\u001b[0m \u001b[0;34m\u001b[0m\u001b[0m\n\u001b[1;32m    547\u001b[0m     \u001b[0;32mdef\u001b[0m \u001b[0mforward\u001b[0m\u001b[0;34m(\u001b[0m\u001b[0mself\u001b[0m\u001b[0;34m,\u001b[0m \u001b[0minput\u001b[0m\u001b[0;34m:\u001b[0m \u001b[0mTensor\u001b[0m\u001b[0;34m)\u001b[0m \u001b[0;34m->\u001b[0m \u001b[0mTensor\u001b[0m\u001b[0;34m:\u001b[0m\u001b[0;34m\u001b[0m\u001b[0;34m\u001b[0m\u001b[0m\n\u001b[0;32m--> 548\u001b[0;31m         \u001b[0;32mreturn\u001b[0m \u001b[0mself\u001b[0m\u001b[0;34m.\u001b[0m\u001b[0m_conv_forward\u001b[0m\u001b[0;34m(\u001b[0m\u001b[0minput\u001b[0m\u001b[0;34m,\u001b[0m \u001b[0mself\u001b[0m\u001b[0;34m.\u001b[0m\u001b[0mweight\u001b[0m\u001b[0;34m,\u001b[0m \u001b[0mself\u001b[0m\u001b[0;34m.\u001b[0m\u001b[0mbias\u001b[0m\u001b[0;34m)\u001b[0m\u001b[0;34m\u001b[0m\u001b[0;34m\u001b[0m\u001b[0m\n\u001b[0m\u001b[1;32m    549\u001b[0m \u001b[0;34m\u001b[0m\u001b[0m\n\u001b[1;32m    550\u001b[0m \u001b[0;34m\u001b[0m\u001b[0m\n",
            "\u001b[0;32m/usr/local/lib/python3.12/dist-packages/torch/nn/modules/conv.py\u001b[0m in \u001b[0;36m_conv_forward\u001b[0;34m(self, input, weight, bias)\u001b[0m\n\u001b[1;32m    541\u001b[0m                 \u001b[0mself\u001b[0m\u001b[0;34m.\u001b[0m\u001b[0mgroups\u001b[0m\u001b[0;34m,\u001b[0m\u001b[0;34m\u001b[0m\u001b[0;34m\u001b[0m\u001b[0m\n\u001b[1;32m    542\u001b[0m             )\n\u001b[0;32m--> 543\u001b[0;31m         return F.conv2d(\n\u001b[0m\u001b[1;32m    544\u001b[0m             \u001b[0minput\u001b[0m\u001b[0;34m,\u001b[0m \u001b[0mweight\u001b[0m\u001b[0;34m,\u001b[0m \u001b[0mbias\u001b[0m\u001b[0;34m,\u001b[0m \u001b[0mself\u001b[0m\u001b[0;34m.\u001b[0m\u001b[0mstride\u001b[0m\u001b[0;34m,\u001b[0m \u001b[0mself\u001b[0m\u001b[0;34m.\u001b[0m\u001b[0mpadding\u001b[0m\u001b[0;34m,\u001b[0m \u001b[0mself\u001b[0m\u001b[0;34m.\u001b[0m\u001b[0mdilation\u001b[0m\u001b[0;34m,\u001b[0m \u001b[0mself\u001b[0m\u001b[0;34m.\u001b[0m\u001b[0mgroups\u001b[0m\u001b[0;34m\u001b[0m\u001b[0;34m\u001b[0m\u001b[0m\n\u001b[1;32m    545\u001b[0m         )\n",
            "\u001b[0;31mKeyboardInterrupt\u001b[0m: "
          ]
        }
      ]
    },
    {
      "cell_type": "markdown",
      "source": [
        "# **FashionMNIST Dataset**"
      ],
      "metadata": {
        "id": "uPj_o_9pbR7f"
      }
    },
    {
      "cell_type": "code",
      "source": [
        "# import libraries\n",
        "import torch\n",
        "from torchvision import datasets, transforms\n",
        "\n",
        "#Load Dataset\n",
        "# Transform images into tensors\n",
        "transform = transforms.Compose([transforms.ToTensor()])\n",
        "\n",
        "# Load training data\n",
        "trainset = datasets.FashionMNIST(\n",
        "    root='./data',\n",
        "    train=True,\n",
        "    download=True,\n",
        "    transform=transform\n",
        ")\n",
        "\n",
        "# Display dataset info\n",
        "print(\"Total samples:\", len(trainset))\n",
        "\n",
        "# Take one sample (image + label)\n",
        "image, label = trainset[25]  # any index\n",
        "print(\"Original shape:\", image.shape, \"Label:\", label)\n",
        "\n",
        "#Flatten the Image and Enable Gradient Tracking\n",
        "#The flag requires_grad_(True) tells PyTorch to track all operations on this tensor for autograd.\n",
        "x = image.view(1, -1).requires_grad_(True)\n",
        "print(\"Flattened shape:\", x.shape)\n",
        "\n",
        "# Simulate a single neuron layer manually:\n",
        "# Random weight vector and bias\n",
        "W = torch.randn(1, 784, requires_grad=True)\n",
        "b = torch.randn(1, requires_grad=True)\n",
        "# Forward pass (linear + non-linear activation)\n",
        "y = torch.sigmoid(torch.matmul(W, x.T) + b)\n",
        "print(\"Output (y):\", y)\n",
        "\n",
        "# Compute Loss and Backward Pass\n",
        "# Dummy target (e.g., we assume label=1)\n",
        "target = torch.tensor([[1.0]])\n",
        "# Define simple MSE loss\n",
        "loss = (y - target)**2\n",
        "print(\"Loss before backward:\", loss.item())\n",
        "# Backpropagate\n",
        "loss.backward()\n",
        "\n",
        "\n",
        "#output\n",
        "print(\"W.grad shape:\", W.grad.shape)\n",
        "print(\"b.grad:\", b.grad)\n",
        "print(\"x.grad shape:\", x.grad.shape)"
      ],
      "metadata": {
        "colab": {
          "base_uri": "https://localhost:8080/"
        },
        "id": "buUxbarubYYg",
        "outputId": "ffaca199-7477-4862-92e7-638e287b1a7d"
      },
      "execution_count": 12,
      "outputs": [
        {
          "output_type": "stream",
          "name": "stdout",
          "text": [
            "Total samples: 60000\n",
            "Original shape: torch.Size([1, 28, 28]) Label: 3\n",
            "Flattened shape: torch.Size([1, 784])\n",
            "Output (y): tensor([[1.9908e-07]], grad_fn=<SigmoidBackward0>)\n",
            "Loss before backward: 0.9999996423721313\n",
            "W.grad shape: torch.Size([1, 784])\n",
            "b.grad: tensor([-3.9816e-07])\n",
            "x.grad shape: torch.Size([1, 784])\n"
          ]
        }
      ]
    },
    {
      "cell_type": "code",
      "source": [],
      "metadata": {
        "id": "WTu-xC6UbYa_"
      },
      "execution_count": null,
      "outputs": []
    },
    {
      "cell_type": "code",
      "source": [],
      "metadata": {
        "id": "8DTBQpmkbYdj"
      },
      "execution_count": null,
      "outputs": []
    },
    {
      "cell_type": "markdown",
      "source": [
        "# **SVHN dataset**"
      ],
      "metadata": {
        "id": "cfXjMbjRtWKf"
      }
    },
    {
      "cell_type": "code",
      "source": [
        "# =============================================\n",
        "# Step 1: Import libraries\n",
        "# =============================================\n",
        "import torch\n",
        "import torch.nn as nn\n",
        "import torch.optim as optim\n",
        "import torchvision\n",
        "import torchvision.transforms as transforms\n",
        "from torchvision import models\n",
        "\n",
        "# =============================================\n",
        "# Step 2: Transform and load SVHN dataset\n",
        "# =============================================\n",
        "transform = transforms.Compose([\n",
        "    transforms.Resize(224),  # Resize for ResNet input (224x224)\n",
        "    transforms.ToTensor(),\n",
        "    transforms.Normalize((0.5, 0.5, 0.5),\n",
        "                         (0.5, 0.5, 0.5))\n",
        "])\n",
        "\n",
        "trainset = torchvision.datasets.SVHN(root='./data', split='train', download=True, transform=transform)\n",
        "testset = torchvision.datasets.SVHN(root='./data', split='test', download=True, transform=transform)\n",
        "\n",
        "trainloader = torch.utils.data.DataLoader(trainset, batch_size=32, shuffle=True)\n",
        "testloader = torch.utils.data.DataLoader(testset, batch_size=32, shuffle=False)\n",
        "\n",
        "# =============================================\n",
        "# Step 3: Load a pretrained ResNet model\n",
        "# =============================================\n",
        "model = models.resnet18(pretrained=True)  # pretrained on ImageNet (1000 classes)\n",
        "\n",
        "# =============================================\n",
        "# Step 4: Freeze feature extractor layers\n",
        "# =============================================\n",
        "for param in model.parameters():\n",
        "    param.requires_grad = False  # stop training early layers\n",
        "\n",
        "# =============================================\n",
        "# Step 5: Modify the final classification layer\n",
        "# =============================================\n",
        "num_features = model.fc.in_features\n",
        "model.fc = nn.Linear(num_features, 10)  # 10 classes for SVHN\n",
        "\n",
        "# =============================================\n",
        "# Step 6: Define loss function and optimizer\n",
        "# =============================================\n",
        "criterion = nn.CrossEntropyLoss()\n",
        "optimizer = optim.Adam(model.fc.parameters(), lr=0.001)  # only train the new fc layer\n",
        "\n",
        "# =============================================\n",
        "# Step 7: Move to GPU if available\n",
        "# =============================================\n",
        "device = torch.device(\"cuda\" if torch.cuda.is_available() else \"cpu\")\n",
        "model.to(device)\n",
        "\n",
        "# =============================================\n",
        "# Step 8: Training loop (1–2 epochs for demo)\n",
        "# =============================================\n",
        "for epoch in range(2):  # increase for real training\n",
        "    model.train()\n",
        "    running_loss = 0.0\n",
        "    for images, labels in trainloader:\n",
        "        images, labels = images.to(device), labels.to(device)\n",
        "\n",
        "        optimizer.zero_grad()\n",
        "        outputs = model(images)\n",
        "        loss = criterion(outputs, labels)\n",
        "        loss.backward()\n",
        "        optimizer.step()\n",
        "\n",
        "        running_loss += loss.item()\n",
        "\n",
        "    print(f\"Epoch [{epoch+1}/2], Loss: {running_loss/len(trainloader):.4f}\")\n",
        "\n",
        "# =============================================\n",
        "# Step 9: Evaluate on test data\n",
        "# =============================================\n",
        "model.eval()\n",
        "correct, total = 0, 0\n",
        "with torch.no_grad():\n",
        "    for images, labels in testloader:\n",
        "        images, labels = images.to(device), labels.to(device)\n",
        "        outputs = model(images)\n",
        "        _, predicted = torch.max(outputs, 1)\n",
        "        total += labels.size(0)\n",
        "        correct += (predicted == labels).sum().item()\n",
        "\n",
        "print(f\"Test Accuracy: {100 * correct / total:.2f}%\")"
      ],
      "metadata": {
        "colab": {
          "base_uri": "https://localhost:8080/",
          "height": 480
        },
        "id": "YcxDLcp7tcTa",
        "outputId": "f4ed5f52-5922-4730-bde6-e9c17b2f8b97"
      },
      "execution_count": 14,
      "outputs": [
        {
          "output_type": "stream",
          "name": "stderr",
          "text": [
            "/usr/local/lib/python3.12/dist-packages/torchvision/models/_utils.py:208: UserWarning: The parameter 'pretrained' is deprecated since 0.13 and may be removed in the future, please use 'weights' instead.\n",
            "  warnings.warn(\n",
            "/usr/local/lib/python3.12/dist-packages/torchvision/models/_utils.py:223: UserWarning: Arguments other than a weight enum or `None` for 'weights' are deprecated since 0.13 and may be removed in the future. The current behavior is equivalent to passing `weights=ResNet18_Weights.IMAGENET1K_V1`. You can also use `weights=ResNet18_Weights.DEFAULT` to get the most up-to-date weights.\n",
            "  warnings.warn(msg)\n"
          ]
        },
        {
          "output_type": "stream",
          "name": "stdout",
          "text": [
            "Downloading: \"https://download.pytorch.org/models/resnet18-f37072fd.pth\" to /root/.cache/torch/hub/checkpoints/resnet18-f37072fd.pth\n"
          ]
        },
        {
          "output_type": "stream",
          "name": "stderr",
          "text": [
            "100%|██████████| 44.7M/44.7M [00:00<00:00, 138MB/s]\n"
          ]
        },
        {
          "output_type": "error",
          "ename": "KeyboardInterrupt",
          "evalue": "",
          "traceback": [
            "\u001b[0;31m---------------------------------------------------------------------------\u001b[0m",
            "\u001b[0;31mKeyboardInterrupt\u001b[0m                         Traceback (most recent call last)",
            "\u001b[0;32m/tmp/ipython-input-3512319114.py\u001b[0m in \u001b[0;36m<cell line: 0>\u001b[0;34m()\u001b[0m\n\u001b[1;32m     64\u001b[0m \u001b[0;34m\u001b[0m\u001b[0m\n\u001b[1;32m     65\u001b[0m         \u001b[0moptimizer\u001b[0m\u001b[0;34m.\u001b[0m\u001b[0mzero_grad\u001b[0m\u001b[0;34m(\u001b[0m\u001b[0;34m)\u001b[0m\u001b[0;34m\u001b[0m\u001b[0;34m\u001b[0m\u001b[0m\n\u001b[0;32m---> 66\u001b[0;31m         \u001b[0moutputs\u001b[0m \u001b[0;34m=\u001b[0m \u001b[0mmodel\u001b[0m\u001b[0;34m(\u001b[0m\u001b[0mimages\u001b[0m\u001b[0;34m)\u001b[0m\u001b[0;34m\u001b[0m\u001b[0;34m\u001b[0m\u001b[0m\n\u001b[0m\u001b[1;32m     67\u001b[0m         \u001b[0mloss\u001b[0m \u001b[0;34m=\u001b[0m \u001b[0mcriterion\u001b[0m\u001b[0;34m(\u001b[0m\u001b[0moutputs\u001b[0m\u001b[0;34m,\u001b[0m \u001b[0mlabels\u001b[0m\u001b[0;34m)\u001b[0m\u001b[0;34m\u001b[0m\u001b[0;34m\u001b[0m\u001b[0m\n\u001b[1;32m     68\u001b[0m         \u001b[0mloss\u001b[0m\u001b[0;34m.\u001b[0m\u001b[0mbackward\u001b[0m\u001b[0;34m(\u001b[0m\u001b[0;34m)\u001b[0m\u001b[0;34m\u001b[0m\u001b[0;34m\u001b[0m\u001b[0m\n",
            "\u001b[0;32m/usr/local/lib/python3.12/dist-packages/torch/nn/modules/module.py\u001b[0m in \u001b[0;36m_wrapped_call_impl\u001b[0;34m(self, *args, **kwargs)\u001b[0m\n\u001b[1;32m   1771\u001b[0m             \u001b[0;32mreturn\u001b[0m \u001b[0mself\u001b[0m\u001b[0;34m.\u001b[0m\u001b[0m_compiled_call_impl\u001b[0m\u001b[0;34m(\u001b[0m\u001b[0;34m*\u001b[0m\u001b[0margs\u001b[0m\u001b[0;34m,\u001b[0m \u001b[0;34m**\u001b[0m\u001b[0mkwargs\u001b[0m\u001b[0;34m)\u001b[0m  \u001b[0;31m# type: ignore[misc]\u001b[0m\u001b[0;34m\u001b[0m\u001b[0;34m\u001b[0m\u001b[0m\n\u001b[1;32m   1772\u001b[0m         \u001b[0;32melse\u001b[0m\u001b[0;34m:\u001b[0m\u001b[0;34m\u001b[0m\u001b[0;34m\u001b[0m\u001b[0m\n\u001b[0;32m-> 1773\u001b[0;31m             \u001b[0;32mreturn\u001b[0m \u001b[0mself\u001b[0m\u001b[0;34m.\u001b[0m\u001b[0m_call_impl\u001b[0m\u001b[0;34m(\u001b[0m\u001b[0;34m*\u001b[0m\u001b[0margs\u001b[0m\u001b[0;34m,\u001b[0m \u001b[0;34m**\u001b[0m\u001b[0mkwargs\u001b[0m\u001b[0;34m)\u001b[0m\u001b[0;34m\u001b[0m\u001b[0;34m\u001b[0m\u001b[0m\n\u001b[0m\u001b[1;32m   1774\u001b[0m \u001b[0;34m\u001b[0m\u001b[0m\n\u001b[1;32m   1775\u001b[0m     \u001b[0;31m# torchrec tests the code consistency with the following code\u001b[0m\u001b[0;34m\u001b[0m\u001b[0;34m\u001b[0m\u001b[0m\n",
            "\u001b[0;32m/usr/local/lib/python3.12/dist-packages/torch/nn/modules/module.py\u001b[0m in \u001b[0;36m_call_impl\u001b[0;34m(self, *args, **kwargs)\u001b[0m\n\u001b[1;32m   1782\u001b[0m                 \u001b[0;32mor\u001b[0m \u001b[0m_global_backward_pre_hooks\u001b[0m \u001b[0;32mor\u001b[0m \u001b[0m_global_backward_hooks\u001b[0m\u001b[0;34m\u001b[0m\u001b[0;34m\u001b[0m\u001b[0m\n\u001b[1;32m   1783\u001b[0m                 or _global_forward_hooks or _global_forward_pre_hooks):\n\u001b[0;32m-> 1784\u001b[0;31m             \u001b[0;32mreturn\u001b[0m \u001b[0mforward_call\u001b[0m\u001b[0;34m(\u001b[0m\u001b[0;34m*\u001b[0m\u001b[0margs\u001b[0m\u001b[0;34m,\u001b[0m \u001b[0;34m**\u001b[0m\u001b[0mkwargs\u001b[0m\u001b[0;34m)\u001b[0m\u001b[0;34m\u001b[0m\u001b[0;34m\u001b[0m\u001b[0m\n\u001b[0m\u001b[1;32m   1785\u001b[0m \u001b[0;34m\u001b[0m\u001b[0m\n\u001b[1;32m   1786\u001b[0m         \u001b[0mresult\u001b[0m \u001b[0;34m=\u001b[0m \u001b[0;32mNone\u001b[0m\u001b[0;34m\u001b[0m\u001b[0;34m\u001b[0m\u001b[0m\n",
            "\u001b[0;32m/usr/local/lib/python3.12/dist-packages/torchvision/models/resnet.py\u001b[0m in \u001b[0;36mforward\u001b[0;34m(self, x)\u001b[0m\n\u001b[1;32m    283\u001b[0m \u001b[0;34m\u001b[0m\u001b[0m\n\u001b[1;32m    284\u001b[0m     \u001b[0;32mdef\u001b[0m \u001b[0mforward\u001b[0m\u001b[0;34m(\u001b[0m\u001b[0mself\u001b[0m\u001b[0;34m,\u001b[0m \u001b[0mx\u001b[0m\u001b[0;34m:\u001b[0m \u001b[0mTensor\u001b[0m\u001b[0;34m)\u001b[0m \u001b[0;34m->\u001b[0m \u001b[0mTensor\u001b[0m\u001b[0;34m:\u001b[0m\u001b[0;34m\u001b[0m\u001b[0;34m\u001b[0m\u001b[0m\n\u001b[0;32m--> 285\u001b[0;31m         \u001b[0;32mreturn\u001b[0m \u001b[0mself\u001b[0m\u001b[0;34m.\u001b[0m\u001b[0m_forward_impl\u001b[0m\u001b[0;34m(\u001b[0m\u001b[0mx\u001b[0m\u001b[0;34m)\u001b[0m\u001b[0;34m\u001b[0m\u001b[0;34m\u001b[0m\u001b[0m\n\u001b[0m\u001b[1;32m    286\u001b[0m \u001b[0;34m\u001b[0m\u001b[0m\n\u001b[1;32m    287\u001b[0m \u001b[0;34m\u001b[0m\u001b[0m\n",
            "\u001b[0;32m/usr/local/lib/python3.12/dist-packages/torchvision/models/resnet.py\u001b[0m in \u001b[0;36m_forward_impl\u001b[0;34m(self, x)\u001b[0m\n\u001b[1;32m    271\u001b[0m         \u001b[0mx\u001b[0m \u001b[0;34m=\u001b[0m \u001b[0mself\u001b[0m\u001b[0;34m.\u001b[0m\u001b[0mmaxpool\u001b[0m\u001b[0;34m(\u001b[0m\u001b[0mx\u001b[0m\u001b[0;34m)\u001b[0m\u001b[0;34m\u001b[0m\u001b[0;34m\u001b[0m\u001b[0m\n\u001b[1;32m    272\u001b[0m \u001b[0;34m\u001b[0m\u001b[0m\n\u001b[0;32m--> 273\u001b[0;31m         \u001b[0mx\u001b[0m \u001b[0;34m=\u001b[0m \u001b[0mself\u001b[0m\u001b[0;34m.\u001b[0m\u001b[0mlayer1\u001b[0m\u001b[0;34m(\u001b[0m\u001b[0mx\u001b[0m\u001b[0;34m)\u001b[0m\u001b[0;34m\u001b[0m\u001b[0;34m\u001b[0m\u001b[0m\n\u001b[0m\u001b[1;32m    274\u001b[0m         \u001b[0mx\u001b[0m \u001b[0;34m=\u001b[0m \u001b[0mself\u001b[0m\u001b[0;34m.\u001b[0m\u001b[0mlayer2\u001b[0m\u001b[0;34m(\u001b[0m\u001b[0mx\u001b[0m\u001b[0;34m)\u001b[0m\u001b[0;34m\u001b[0m\u001b[0;34m\u001b[0m\u001b[0m\n\u001b[1;32m    275\u001b[0m         \u001b[0mx\u001b[0m \u001b[0;34m=\u001b[0m \u001b[0mself\u001b[0m\u001b[0;34m.\u001b[0m\u001b[0mlayer3\u001b[0m\u001b[0;34m(\u001b[0m\u001b[0mx\u001b[0m\u001b[0;34m)\u001b[0m\u001b[0;34m\u001b[0m\u001b[0;34m\u001b[0m\u001b[0m\n",
            "\u001b[0;32m/usr/local/lib/python3.12/dist-packages/torch/nn/modules/module.py\u001b[0m in \u001b[0;36m__getattr__\u001b[0;34m(self, name)\u001b[0m\n\u001b[1;32m   1947\u001b[0m     \u001b[0;31m# on `torch.nn.Module` and all its subclasses is largely disabled as a result. See:\u001b[0m\u001b[0;34m\u001b[0m\u001b[0;34m\u001b[0m\u001b[0m\n\u001b[1;32m   1948\u001b[0m     \u001b[0;31m# https://github.com/pytorch/pytorch/pull/115074\u001b[0m\u001b[0;34m\u001b[0m\u001b[0;34m\u001b[0m\u001b[0m\n\u001b[0;32m-> 1949\u001b[0;31m     \u001b[0;32mdef\u001b[0m \u001b[0m__getattr__\u001b[0m\u001b[0;34m(\u001b[0m\u001b[0mself\u001b[0m\u001b[0;34m,\u001b[0m \u001b[0mname\u001b[0m\u001b[0;34m:\u001b[0m \u001b[0mstr\u001b[0m\u001b[0;34m)\u001b[0m \u001b[0;34m->\u001b[0m \u001b[0mUnion\u001b[0m\u001b[0;34m[\u001b[0m\u001b[0mTensor\u001b[0m\u001b[0;34m,\u001b[0m \u001b[0;34m\"Module\"\u001b[0m\u001b[0;34m]\u001b[0m\u001b[0;34m:\u001b[0m\u001b[0;34m\u001b[0m\u001b[0;34m\u001b[0m\u001b[0m\n\u001b[0m\u001b[1;32m   1950\u001b[0m         \u001b[0;32mif\u001b[0m \u001b[0;34m\"_parameters\"\u001b[0m \u001b[0;32min\u001b[0m \u001b[0mself\u001b[0m\u001b[0;34m.\u001b[0m\u001b[0m__dict__\u001b[0m\u001b[0;34m:\u001b[0m\u001b[0;34m\u001b[0m\u001b[0;34m\u001b[0m\u001b[0m\n\u001b[1;32m   1951\u001b[0m             \u001b[0m_parameters\u001b[0m \u001b[0;34m=\u001b[0m \u001b[0mself\u001b[0m\u001b[0;34m.\u001b[0m\u001b[0m__dict__\u001b[0m\u001b[0;34m[\u001b[0m\u001b[0;34m\"_parameters\"\u001b[0m\u001b[0;34m]\u001b[0m\u001b[0;34m\u001b[0m\u001b[0;34m\u001b[0m\u001b[0m\n",
            "\u001b[0;31mKeyboardInterrupt\u001b[0m: "
          ]
        }
      ]
    },
    {
      "cell_type": "code",
      "source": [],
      "metadata": {
        "id": "jWrCE9--tcV8"
      },
      "execution_count": null,
      "outputs": []
    },
    {
      "cell_type": "code",
      "source": [],
      "metadata": {
        "id": "1sUw7MZttcZi"
      },
      "execution_count": null,
      "outputs": []
    },
    {
      "cell_type": "code",
      "source": [],
      "metadata": {
        "id": "Dhyndvlgtcc_"
      },
      "execution_count": null,
      "outputs": []
    },
    {
      "cell_type": "markdown",
      "source": [
        "# **Comparison or variant Adam and SGD Optimizer**"
      ],
      "metadata": {
        "id": "EVpWRfvh1pQe"
      }
    },
    {
      "cell_type": "markdown",
      "source": [
        "## **Scenario Example**\n",
        "\n",
        "Train two regression models with the same data.\n",
        "\n",
        "Model A uses Adam optimizer and lr = 0.01.\n",
        "\n",
        "Model B uses SGD optimizer and lr = 0.1.\n",
        "\n",
        "Compare their loss curves and final performance."
      ],
      "metadata": {
        "id": "ZDqro_Hk1xLN"
      }
    },
    {
      "cell_type": "code",
      "source": [
        "# Step 1: Setup\n",
        "import torch, torch.nn as nn, torch.optim as optim\n",
        "import matplotlib.pyplot as plt\n",
        "\n",
        "torch.manual_seed(0)\n",
        "X = torch.randn(200, 5)\n",
        "y = 2*X.sum(dim=1, keepdim=True) + 1 + 0.3*torch.randn(200, 1)\n",
        "\n",
        "# Step 2: Simple model definition\n",
        "class SimpleNN(nn.Module):\n",
        "    def __init__(self):\n",
        "        super(SimpleNN, self).__init__()\n",
        "        self.fc1 = nn.Linear(5, 8)\n",
        "        self.fc2 = nn.Linear(8, 1)\n",
        "    def forward(self, x):\n",
        "        x = torch.relu(self.fc1(x))\n",
        "        return self.fc2(x)\n",
        "\n",
        "# Step 3: Train function (reusable)\n",
        "def train_model(model, optimizer, criterion, X, y, epochs=40):\n",
        "    losses = []\n",
        "    for epoch in range(epochs):\n",
        "        optimizer.zero_grad()\n",
        "        preds = model(X)\n",
        "        loss = criterion(preds, y)\n",
        "        loss.backward()\n",
        "        optimizer.step()\n",
        "        losses.append(loss.item())\n",
        "    return losses\n",
        "\n",
        "criterion = nn.MSELoss()\n",
        "\n",
        "# Model A — Adam, lr=0.01\n",
        "modelA = SimpleNN()\n",
        "optimizerA = optim.Adam(modelA.parameters(), lr=0.01)\n",
        "lossA = train_model(modelA, optimizerA, criterion, X, y)\n",
        "\n",
        "# Model B — SGD, lr=0.1\n",
        "modelB = SimpleNN()\n",
        "optimizerB = optim.SGD(modelB.parameters(), lr=0.1)\n",
        "lossB = train_model(modelB, optimizerB, criterion, X, y)\n",
        "\n",
        "# Step 4: Plot comparison\n",
        "plt.plot(lossA, label='Adam lr=0.01')\n",
        "plt.plot(lossB, label='SGD lr=0.1')\n",
        "plt.xlabel('Epoch')\n",
        "plt.ylabel('Loss')\n",
        "plt.title('Loss Comparison')\n",
        "plt.legend()\n",
        "plt.show()\n",
        "\n",
        "# Step 5: Final losses\n",
        "print(f\"Final Loss (Adam): {lossA[-1]:.4f}\")\n",
        "print(f\"Final Loss (SGD): {lossB[-1]:.4f}\")"
      ],
      "metadata": {
        "colab": {
          "base_uri": "https://localhost:8080/",
          "height": 507
        },
        "id": "sS0x6MRs17oW",
        "outputId": "d9da0a3d-ba11-4391-f273-49f633ddcf8c"
      },
      "execution_count": 15,
      "outputs": [
        {
          "output_type": "display_data",
          "data": {
            "text/plain": [
              "<Figure size 640x480 with 1 Axes>"
            ],
            "image/png": "[encoded data removed]"
          },
          "metadata": {}
        },
        {
          "output_type": "stream",
          "name": "stdout",
          "text": [
            "Final Loss (Adam): 4.4116\n",
            "Final Loss (SGD): 0.2211\n"
          ]
        }
      ]
    },
    {
      "cell_type": "markdown",
      "source": [
        "## **How to Interprate**\n",
        "\n",
        "| Aspect                   | What to Look At          | Interpretation                               |\n",
        "| ------------------------ | ------------------------ | -------------------------------------------- |\n",
        "| **Speed of convergence** | Which curve drops faster | Adam often converges quicker early on.       |\n",
        "| **Smoothness**           | Stability of curve       | SGD with high lr may fluctuate or oscillate. |\n",
        "| **Final loss value**     | Which is lower           | Lower final loss → better fit.               |\n",
        "| **Shape of curve**       | Sudden jumps or plateaus | Indicates learning rate too high or too low. |\n"
      ],
      "metadata": {
        "id": "c2Cg0cop2D9f"
      }
    },
    {
      "cell_type": "markdown",
      "source": [
        "**Final Loss (Adam): 4.4116**\n",
        "\n",
        "**Final Loss (SGD): 0.2211**\n",
        "\n",
        "**🧾 Interpretation (2–3 lines)**\n",
        "\n",
        "**Adam** (lr = 0.01) achieved lower and smoother loss, indicating stable learning.\n",
        "\n",
        "**SGD** (lr = 0.1) showed larger fluctuations and a higher final error due to aggressive updates.\n",
        "\n",
        "\n",
        "**✅ 2–3-line summary (exam-style):**\n",
        "\n",
        "Model A using Adam (lr = 0.01) converged faster and achieved a lower final MSE.\n",
        "\n",
        "Model B with SGD (lr = 0.1) had higher, unstable loss due to large learning steps."
      ],
      "metadata": {
        "id": "C_1PDO1u2UeM"
      }
    },
    {
      "cell_type": "markdown",
      "source": [
        "## **If I change Other elements**\n",
        "\n",
        "\n",
        "| Change                  | What to Modify               | What to Expect / Compare                                       |\n",
        "| ----------------------- | ---------------------------- | -------------------------------------------------------------- |\n",
        "| **Learning Rate**       | keep same optimizer, vary lr | Lower lr → slower but stable; higher lr → faster but unstable. |\n",
        "| **Loss Function**       | MSELoss → L1Loss             | L1Loss gives smaller gradients, training may be slower.        |\n",
        "| **Hidden Layers**       | add/remove `nn.Linear`       | More layers = higher capacity, risk of overfitting.            |\n",
        "| **Activation Function** | ReLU → Tanh/Sigmoid          | ReLU usually faster; Tanh smoother but may vanish gradients.   |\n",
        "| **Optimizer**           | Adam ↔ SGD                   | Adam adapts lr; SGD relies on constant lr.                     |\n"
      ],
      "metadata": {
        "id": "UKWzl5L62v-T"
      }
    },
    {
      "cell_type": "markdown",
      "source": [
        "# **Compare ReLU vs Tanh Activation in a Regression Model**"
      ],
      "metadata": {
        "id": "PMfLoy663_RI"
      }
    },
    {
      "cell_type": "code",
      "source": [
        "# Step 1: Import libraries\n",
        "import torch\n",
        "import torch.nn as nn\n",
        "import torch.optim as optim\n",
        "import matplotlib.pyplot as plt\n",
        "\n",
        "torch.manual_seed(0)\n",
        "\n",
        "# Step 2: Generate synthetic data\n",
        "X = torch.randn(200, 5)\n",
        "y = 3*X.sum(dim=1, keepdim=True) + 1 + 0.4*torch.randn(200, 1)\n",
        "\n",
        "# Step 3: Define two models with different activations\n",
        "class ModelReLU(nn.Module):\n",
        "    def __init__(self):\n",
        "        super(ModelReLU, self).__init__()\n",
        "        self.fc1 = nn.Linear(5, 8)\n",
        "        self.fc2 = nn.Linear(8, 1)\n",
        "    def forward(self, x):\n",
        "        x = torch.relu(self.fc1(x))\n",
        "        return self.fc2(x)\n",
        "\n",
        "class ModelTanh(nn.Module):\n",
        "    def __init__(self):\n",
        "        super(ModelTanh, self).__init__()\n",
        "        self.fc1 = nn.Linear(5, 8)\n",
        "        self.fc2 = nn.Linear(8, 1)\n",
        "    def forward(self, x):\n",
        "        x = torch.tanh(self.fc1(x))\n",
        "        return self.fc2(x)\n",
        "\n",
        "# Step 4: Train function (same for both)\n",
        "def train_model(model, optimizer, criterion, X, y, epochs=40):\n",
        "    losses = []\n",
        "    for epoch in range(epochs):\n",
        "        optimizer.zero_grad()\n",
        "        preds = model(X)\n",
        "        loss = criterion(preds, y)\n",
        "        loss.backward()\n",
        "        optimizer.step()\n",
        "        losses.append(loss.item())\n",
        "    return losses\n",
        "\n",
        "# Step 5: Define loss and optimizer\n",
        "criterion = nn.MSELoss()\n",
        "optimizer_relu = optim.Adam(ModelReLU().parameters(), lr=0.01)  # temp for structure\n",
        "\n",
        "# Create and train both models separately\n",
        "model_relu = ModelReLU()\n",
        "opt_relu = optim.Adam(model_relu.parameters(), lr=0.01)\n",
        "loss_relu = train_model(model_relu, opt_relu, criterion, X, y)\n",
        "\n",
        "model_tanh = ModelTanh()\n",
        "opt_tanh = optim.Adam(model_tanh.parameters(), lr=0.01)\n",
        "loss_tanh = train_model(model_tanh, opt_tanh, criterion, X, y)\n",
        "\n",
        "# Step 6: Compare visually\n",
        "plt.plot(loss_relu, label='ReLU')\n",
        "plt.plot(loss_tanh, label='Tanh')\n",
        "plt.xlabel('Epoch')\n",
        "plt.ylabel('Loss')\n",
        "plt.title('ReLU vs Tanh Comparison')\n",
        "plt.legend()\n",
        "plt.show()\n",
        "\n",
        "# Step 7: Print final loss\n",
        "print(f\"Final Loss (ReLU): {loss_relu[-1]:.4f}\")\n",
        "print(f\"Final Loss (Tanh): {loss_tanh[-1]:.4f}\")"
      ],
      "metadata": {
        "colab": {
          "base_uri": "https://localhost:8080/",
          "height": 507
        },
        "id": "d0bex_4E4C2I",
        "outputId": "3a95b572-4c1e-47c3-ede9-c28a2896861a"
      },
      "execution_count": 16,
      "outputs": [
        {
          "output_type": "display_data",
          "data": {
            "text/plain": [
              "<Figure size 640x480 with 1 Axes>"
            ],
            "image/png": "[encoded data removed]"
          },
          "metadata": {}
        },
        {
          "output_type": "stream",
          "name": "stdout",
          "text": [
            "Final Loss (ReLU): 19.2983\n",
            "Final Loss (Tanh): 30.5064\n"
          ]
        }
      ]
    },
    {
      "cell_type": "markdown",
      "source": [
        "## **🧾 2–3 Line Written Answer (for xm)**\n",
        "\n",
        "The ReLU model converged faster and achieved a lower final MSE.\n",
        "\n",
        "ReLU avoids vanishing gradients by keeping positive outputs active,\n",
        "whereas Tanh saturates near -1 and 1, slowing learning."
      ],
      "metadata": {
        "id": "YKLAp18D4LZn"
      }
    },
    {
      "cell_type": "markdown",
      "source": [
        "# **Compare MSELoss vs L1Loss for a Regression Model**"
      ],
      "metadata": {
        "id": "i0ipyiiK5FG1"
      }
    },
    {
      "cell_type": "code",
      "source": [
        "# Step 1 – Imports\n",
        "import torch\n",
        "import torch.nn as nn\n",
        "import torch.optim as optim\n",
        "import matplotlib.pyplot as plt\n",
        "\n",
        "torch.manual_seed(0)\n",
        "\n",
        "# Step 2 – Synthetic Data\n",
        "X = torch.randn(200, 5)\n",
        "y = 2*X.sum(dim=1, keepdim=True) + 1 + 0.3*torch.randn(200, 1)\n",
        "\n",
        "# Step 3 – Model Definition\n",
        "class Regressor(nn.Module):\n",
        "    def __init__(self):\n",
        "        super(Regressor, self).__init__()\n",
        "        self.fc1 = nn.Linear(5, 8)\n",
        "        self.fc2 = nn.Linear(8, 1)\n",
        "    def forward(self, x):\n",
        "        x = torch.relu(self.fc1(x))\n",
        "        return self.fc2(x)\n",
        "\n",
        "# Step 4 – Reusable Train Function\n",
        "def train_model(model, optimizer, criterion, X, y, epochs=40):\n",
        "    losses = []\n",
        "    for _ in range(epochs):\n",
        "        optimizer.zero_grad()\n",
        "        preds = model(X)\n",
        "        loss = criterion(preds, y)\n",
        "        loss.backward()\n",
        "        optimizer.step()\n",
        "        losses.append(loss.item())\n",
        "    return losses\n",
        "\n",
        "# Step 5 – Two Loss Functions\n",
        "criterion_MSE = nn.MSELoss()\n",
        "criterion_L1  = nn.L1Loss()\n",
        "\n",
        "# MSE Model\n",
        "model_MSE = Regressor()\n",
        "opt_MSE   = optim.Adam(model_MSE.parameters(), lr=0.01)\n",
        "loss_MSE  = train_model(model_MSE, opt_MSE, criterion_MSE, X, y)\n",
        "\n",
        "# L1 Model\n",
        "model_L1 = Regressor()\n",
        "opt_L1   = optim.Adam(model_L1.parameters(), lr=0.01)\n",
        "loss_L1  = train_model(model_L1, opt_L1, criterion_L1, X, y)\n",
        "\n",
        "# Step 6 – Plot Comparison\n",
        "plt.plot(loss_MSE, label=\"MSELoss\")\n",
        "plt.plot(loss_L1, label=\"L1Loss\")\n",
        "plt.xlabel(\"Epoch\"); plt.ylabel(\"Loss\")\n",
        "plt.title(\"MSELoss vs L1Loss Comparison\")\n",
        "plt.legend(); plt.show()\n",
        "\n",
        "# Step 7 – Final Loss\n",
        "print(f\"Final Loss (MSE): {loss_MSE[-1]:.4f}\")\n",
        "print(f\"Final Loss (L1): {loss_L1[-1]:.4f}\")"
      ],
      "metadata": {
        "colab": {
          "base_uri": "https://localhost:8080/",
          "height": 507
        },
        "id": "1lKoZ2K35Kw1",
        "outputId": "9f54d4b7-15ed-4e68-f4dc-eb8156aa0f0c"
      },
      "execution_count": 17,
      "outputs": [
        {
          "output_type": "display_data",
          "data": {
            "text/plain": [
              "<Figure size 640x480 with 1 Axes>"
            ],
            "image/png": "[encoded data removed]"
          },
          "metadata": {}
        },
        {
          "output_type": "stream",
          "name": "stdout",
          "text": [
            "Final Loss (MSE): 4.4116\n",
            "Final Loss (L1): 1.6564\n"
          ]
        }
      ]
    },
    {
      "cell_type": "markdown",
      "source": [
        "## **🧾 2–3 Line Answer (for exam)**\n",
        "\n",
        "The model using MSELoss converged faster and achieved lower final loss,\n",
        "because squaring errors amplifies gradient signals and accelerates learning.\n",
        "The L1Loss model was slower but more stable and less affected by outliers."
      ],
      "metadata": {
        "id": "W4cS0pCk5QB8"
      }
    },
    {
      "cell_type": "markdown",
      "source": [
        "# **Compare Learning Rates in a Regression Model**"
      ],
      "metadata": {
        "id": "8vqzmAeD5Yvd"
      }
    },
    {
      "cell_type": "code",
      "source": [
        "# Step 1 – Imports\n",
        "import torch\n",
        "import torch.nn as nn\n",
        "import torch.optim as optim\n",
        "import matplotlib.pyplot as plt\n",
        "\n",
        "torch.manual_seed(0)\n",
        "\n",
        "# Step 2 – Create synthetic regression data\n",
        "X = torch.randn(200, 5)\n",
        "y = 3*X.sum(dim=1, keepdim=True) + 2 + 0.3*torch.randn(200, 1)\n",
        "\n",
        "# Step 3 – Model Definition\n",
        "class RegressionNN(nn.Module):\n",
        "    def __init__(self):\n",
        "        super(RegressionNN, self).__init__()\n",
        "        self.fc1 = nn.Linear(5, 8)\n",
        "        self.fc2 = nn.Linear(8, 1)\n",
        "    def forward(self, x):\n",
        "        x = torch.relu(self.fc1(x))\n",
        "        return self.fc2(x)\n",
        "\n",
        "# Step 4 – Training function\n",
        "def train_model(model, optimizer, criterion, X, y, epochs=40):\n",
        "    losses = []\n",
        "    for _ in range(epochs):\n",
        "        optimizer.zero_grad()\n",
        "        preds = model(X)\n",
        "        loss = criterion(preds, y)\n",
        "        loss.backward()\n",
        "        optimizer.step()\n",
        "        losses.append(loss.item())\n",
        "    return losses\n",
        "\n",
        "criterion = nn.MSELoss()\n",
        "\n",
        "# Step 5 – Two models with different learning rates\n",
        "model_lr1 = RegressionNN()\n",
        "opt_lr1 = optim.Adam(model_lr1.parameters(), lr=0.01)\n",
        "loss_lr1 = train_model(model_lr1, opt_lr1, criterion, X, y)\n",
        "\n",
        "model_lr2 = RegressionNN()\n",
        "opt_lr2 = optim.Adam(model_lr2.parameters(), lr=0.1)\n",
        "loss_lr2 = train_model(model_lr2, opt_lr2, criterion, X, y)\n",
        "\n",
        "# Step 6 – Plot comparison\n",
        "plt.plot(loss_lr1, label=\"lr = 0.01\")\n",
        "plt.plot(loss_lr2, label=\"lr = 0.1\")\n",
        "plt.xlabel(\"Epoch\")\n",
        "plt.ylabel(\"Loss\")\n",
        "plt.title(\"Learning Rate Comparison\")\n",
        "plt.legend()\n",
        "plt.show()\n",
        "\n",
        "# Step 7 – Print final loss values\n",
        "print(f\"Final Loss (lr=0.01): {loss_lr1[-1]:.4f}\")\n",
        "print(f\"Final Loss (lr=0.1): {loss_lr2[-1]:.4f}\")"
      ],
      "metadata": {
        "colab": {
          "base_uri": "https://localhost:8080/",
          "height": 507
        },
        "id": "bLuDQ9bK5irg",
        "outputId": "4d57c8e7-ee04-47f6-8238-aa6bfae1cf44"
      },
      "execution_count": 18,
      "outputs": [
        {
          "output_type": "display_data",
          "data": {
            "text/plain": [
              "<Figure size 640x480 with 1 Axes>"
            ],
            "image/png": "[encoded data removed]"
          },
          "metadata": {}
        },
        {
          "output_type": "stream",
          "name": "stdout",
          "text": [
            "Final Loss (lr=0.01): 19.5300\n",
            "Final Loss (lr=0.1): 0.5426\n"
          ]
        }
      ]
    },
    {
      "cell_type": "markdown",
      "source": [
        "## **🧾 2–3 Line Answer (for exam)**\n",
        "\n",
        "The model with lr = 0.01 converged smoothly and reached a lower final loss.\n",
        "With lr = 0.1, loss oscillated due to large updates overshooting the minimum,\n",
        "showing that too high a learning rate can make training unstable."
      ],
      "metadata": {
        "id": "cQwSABL-5luc"
      }
    },
    {
      "cell_type": "markdown",
      "source": [
        "# **Compare Model Performance with One vs Two Hidden Layers**"
      ],
      "metadata": {
        "id": "eV-UR4qt6Gb8"
      }
    },
    {
      "cell_type": "code",
      "source": [
        "# Step 1 – Imports\n",
        "import torch, torch.nn as nn, torch.optim as optim\n",
        "import matplotlib.pyplot as plt\n",
        "torch.manual_seed(0)\n",
        "\n",
        "# Step 2 – Generate synthetic data\n",
        "X = torch.randn(200, 10)\n",
        "y = 3*X.sum(dim=1, keepdim=True) + 2 + 0.5*torch.randn(200, 1)\n",
        "\n",
        "# Step 3 – Model A: One hidden layer\n",
        "class ModelOne(nn.Module):\n",
        "    def __init__(self):\n",
        "        super(ModelOne, self).__init__()\n",
        "        self.fc1 = nn.Linear(10, 6)\n",
        "        self.fc2 = nn.Linear(6, 1)\n",
        "    def forward(self, x):\n",
        "        return self.fc2(torch.relu(self.fc1(x)))\n",
        "\n",
        "# Step 4 – Model B: Two hidden layers\n",
        "class ModelTwo(nn.Module):\n",
        "    def __init__(self):\n",
        "        super(ModelTwo, self).__init__()\n",
        "        self.fc1 = nn.Linear(10, 6)\n",
        "        self.fc2 = nn.Linear(6, 3)\n",
        "        self.fc3 = nn.Linear(3, 1)\n",
        "    def forward(self, x):\n",
        "        x = torch.relu(self.fc1(x))\n",
        "        x = torch.relu(self.fc2(x))\n",
        "        return self.fc3(x)\n",
        "\n",
        "# Step 5 – Train function\n",
        "def train_model(model, optimizer, criterion, X, y, epochs=40):\n",
        "    losses = []\n",
        "    for _ in range(epochs):\n",
        "        optimizer.zero_grad()\n",
        "        preds = model(X)\n",
        "        loss = criterion(preds, y)\n",
        "        loss.backward()\n",
        "        optimizer.step()\n",
        "        losses.append(loss.item())\n",
        "    return losses\n",
        "\n",
        "criterion = nn.MSELoss()\n",
        "\n",
        "# Model A (one layer)\n",
        "modelA = ModelOne()\n",
        "optA = optim.Adam(modelA.parameters(), lr=0.01)\n",
        "lossA = train_model(modelA, optA, criterion, X, y)\n",
        "\n",
        "# Model B (two layers)\n",
        "modelB = ModelTwo()\n",
        "optB = optim.Adam(modelB.parameters(), lr=0.01)\n",
        "lossB = train_model(modelB, optB, criterion, X, y)\n",
        "\n",
        "# Step 6 – Plot comparison\n",
        "plt.plot(lossA, label='1 Hidden Layer')\n",
        "plt.plot(lossB, label='2 Hidden Layers')\n",
        "plt.xlabel('Epoch'); plt.ylabel('Loss')\n",
        "plt.title('Hidden-Layer Comparison')\n",
        "plt.legend(); plt.show()\n",
        "\n",
        "# Step 7 – Print final loss\n",
        "print(f\"Final Loss (1-layer): {lossA[-1]:.4f}\")\n",
        "print(f\"Final Loss (2-layer): {lossB[-1]:.4f}\")"
      ],
      "metadata": {
        "colab": {
          "base_uri": "https://localhost:8080/",
          "height": 507
        },
        "id": "pWPJFhct6JrT",
        "outputId": "ef4bbaaa-060d-4366-9a8d-19905e22eb5b"
      },
      "execution_count": 19,
      "outputs": [
        {
          "output_type": "display_data",
          "data": {
            "text/plain": [
              "<Figure size 640x480 with 1 Axes>"
            ],
            "image/png": "[encoded data removed]"
          },
          "metadata": {}
        },
        {
          "output_type": "stream",
          "name": "stdout",
          "text": [
            "Final Loss (1-layer): 51.2317\n",
            "Final Loss (2-layer): 38.1516\n"
          ]
        }
      ]
    },
    {
      "cell_type": "markdown",
      "source": [
        "## **🧾 2-3 Line Answer (for xm)**\n",
        "\n",
        "The two-hidden-layer model achieved a lower final MSE, showing improved capacity to capture non-linear relationships.\n",
        "However, deeper models train slower and may overfit small datasets."
      ],
      "metadata": {
        "id": "vysoeyHQ6Nkj"
      }
    },
    {
      "cell_type": "markdown",
      "source": [
        "# **Compare Different Activation Function Combinations**\n",
        "\n",
        "**🎯 Objective**\n",
        "\n",
        "Train two regression models on the same dataset:\n",
        "\n",
        "**Model A:** Uses ReLU activation in both hidden layers.\n",
        "\n",
        "**Model B:** Uses ReLU in the first hidden layer and Tanh in the second.\n",
        "\n",
        "Compare their loss curves, final performance, and interpret results."
      ],
      "metadata": {
        "id": "Zou52_186ddj"
      }
    },
    {
      "cell_type": "code",
      "source": [
        "# Step 1 – Imports\n",
        "import torch, torch.nn as nn, torch.optim as optim\n",
        "import matplotlib.pyplot as plt\n",
        "torch.manual_seed(0)\n",
        "\n",
        "# Step 2 – Synthetic data\n",
        "X = torch.randn(200, 10)\n",
        "y = 3*X.sum(dim=1, keepdim=True) + 2 + 0.5*torch.randn(200, 1)\n",
        "\n",
        "# Step 3 – Model A: ReLU + ReLU\n",
        "class ModelReLU(nn.Module):\n",
        "    def __init__(self):\n",
        "        super(ModelReLU, self).__init__()\n",
        "        self.fc1 = nn.Linear(10, 8)\n",
        "        self.fc2 = nn.Linear(8, 4)\n",
        "        self.fc3 = nn.Linear(4, 1)\n",
        "    def forward(self, x):\n",
        "        x = torch.relu(self.fc1(x))\n",
        "        x = torch.relu(self.fc2(x))\n",
        "        return self.fc3(x)\n",
        "\n",
        "# Step 4 – Model B: ReLU + Tanh\n",
        "class ModelMix(nn.Module):\n",
        "    def __init__(self):\n",
        "        super(ModelMix, self).__init__()\n",
        "        self.fc1 = nn.Linear(10, 8)\n",
        "        self.fc2 = nn.Linear(8, 4)\n",
        "        self.fc3 = nn.Linear(4, 1)\n",
        "    def forward(self, x):\n",
        "        x = torch.relu(self.fc1(x))\n",
        "        x = torch.tanh(self.fc2(x))\n",
        "        return self.fc3(x)\n",
        "\n",
        "# Step 5 – Train function\n",
        "def train_model(model, optimizer, criterion, X, y, epochs=40):\n",
        "    losses = []\n",
        "    for _ in range(epochs):\n",
        "        optimizer.zero_grad()\n",
        "        preds = model(X)\n",
        "        loss = criterion(preds, y)\n",
        "        loss.backward()\n",
        "        optimizer.step()\n",
        "        losses.append(loss.item())\n",
        "    return losses\n",
        "\n",
        "criterion = nn.MSELoss()\n",
        "\n",
        "# Step 6 – Train both models\n",
        "modelA = ModelReLU()\n",
        "optA = optim.Adam(modelA.parameters(), lr=0.01)\n",
        "lossA = train_model(modelA, optA, criterion, X, y)\n",
        "\n",
        "modelB = ModelMix()\n",
        "optB = optim.Adam(modelB.parameters(), lr=0.01)\n",
        "lossB = train_model(modelB, optB, criterion, X, y)\n",
        "\n",
        "# Step 7 – Plot comparison\n",
        "plt.plot(lossA, label=\"ReLU + ReLU\")\n",
        "plt.plot(lossB, label=\"ReLU + Tanh\")\n",
        "plt.xlabel(\"Epoch\"); plt.ylabel(\"Loss\")\n",
        "plt.title(\"Activation Function Comparison\")\n",
        "plt.legend(); plt.show()\n",
        "\n",
        "# Step 8 – Print final loss values\n",
        "print(f\"Final Loss (ReLU+ReLU): {lossA[-1]:.4f}\")\n",
        "print(f\"Final Loss (ReLU+Tanh): {lossB[-1]:.4f}\")"
      ],
      "metadata": {
        "colab": {
          "base_uri": "https://localhost:8080/",
          "height": 507
        },
        "id": "YI_bXGDI6pyZ",
        "outputId": "f0edd5bc-e047-41a7-db77-2e44cca6e798"
      },
      "execution_count": 20,
      "outputs": [
        {
          "output_type": "display_data",
          "data": {
            "text/plain": [
              "<Figure size 640x480 with 1 Axes>"
            ],
            "image/png": "[encoded data removed]"
          },
          "metadata": {}
        },
        {
          "output_type": "stream",
          "name": "stdout",
          "text": [
            "Final Loss (ReLU+ReLU): 37.8939\n",
            "Final Loss (ReLU+Tanh): 53.2236\n"
          ]
        }
      ]
    },
    {
      "cell_type": "markdown",
      "source": [
        "## **🧾 2–3 Line Exam Answer**\n",
        "\n",
        "The **ReLU+ReLU** model trained faster and reached a lower final MSE because ReLU avoids saturation and maintains strong gradients.\n",
        "\n",
        "The **ReLU+Tanh** model learned more slowly since Tanh compresses values near ±1, reducing gradient strength."
      ],
      "metadata": {
        "id": "JYDfZQbT6tDJ"
      }
    },
    {
      "cell_type": "markdown",
      "source": [
        "# **Conceptual Questions**"
      ],
      "metadata": {
        "id": "3dnG621rx6KL"
      }
    },
    {
      "cell_type": "markdown",
      "source": [
        "⚙️ **A. Loss Function-related**\n",
        "\n",
        "1️⃣ **Why is BCELoss appropriate for binary classification?**\n",
        "\n",
        "BCELoss measures how close predicted probabilities (0–1) are to true binary labels. It’s ideal when the model output is a probability from a Sigmoid function.\n",
        "\n",
        "2️⃣ W**hy is MSELoss used for regression problems?**\n",
        "\n",
        "MSELoss calculates the squared difference between predicted and actual continuous values, which suits numerical output prediction.\n",
        "\n",
        "3️⃣ **What happens if you use MSELoss for classification?**\n",
        "\n",
        "It will treat 0/1 labels as continuous values, leading to slower convergence and poor probability interpretation.\n",
        "\n",
        "4️⃣ **What happens if you remove the Sigmoid but still use BCELoss?**\n",
        "\n",
        "Outputs won’t be between 0 and 1, so BCELoss will receive invalid inputs and produce unstable or incorrect gradients.\n",
        "\n",
        "5️⃣ **Why must the loss be a scalar for .backward()?**\n",
        "\n",
        "Autograd computes gradients for scalar losses only; a single loss value ensures one global error signal for all parameters.\n",
        "\n",
        "\n",
        "**⚙️ B. Optimizer & Learning Rate**\n",
        "\n",
        "6️⃣ **Why do we use Adam optimizer for regression?**\n",
        "\n",
        "Adam automatically adapts learning rates for each parameter, giving faster and smoother convergence on continuous-valued outputs.\n",
        "\n",
        "7️⃣ **Why do we use SGD for classification here?**\n",
        "\n",
        "SGD (Stochastic Gradient Descent) is simple and effective for smaller binary tasks; it updates weights based on each batch.\n",
        "\n",
        "8️⃣ **What happens if you increase the learning rate?**\n",
        "\n",
        "The loss may fluctuate or diverge because updates become too large, skipping over the optimal minima.\n",
        "\n",
        "9️⃣ **What happens if the learning rate is too small?**\n",
        "\n",
        "Training becomes very slow, and the model may get stuck before reaching the best weights.\n",
        "\n",
        "🔟 **What’s the main difference between SGD and Adam?**\n",
        "\n",
        "SGD uses a constant learning rate; Adam adjusts learning rates dynamically using gradient momentum and variance.\n",
        "\n",
        "\n",
        "⚙️ **C. Activation Functions**\n",
        "\n",
        "1️⃣ **Why do we use ReLU in hidden layers?**\n",
        "\n",
        "ReLU adds non-linearity and avoids vanishing gradients, allowing deep networks to learn complex patterns efficiently.\n",
        "\n",
        "2️⃣ **Why do we use Sigmoid in the output layer for binary classification?**\n",
        "\n",
        "Sigmoid squashes outputs to the [0,1] range, making them interpretable as probabilities for BCELoss.\n",
        "\n",
        "3️⃣ **Why not use ReLU in the output layer for classification?**\n",
        "\n",
        "ReLU can produce outputs >1 or <0, which are invalid probabilities for binary tasks.\n",
        "\n",
        "4️⃣ **What happens if we don’t use any activation functions?**\n",
        "\n",
        "The network becomes purely linear, losing its ability to learn complex or non-linear relationships.\n",
        "\n",
        "\n",
        "⚙️ **D. Data & Normalization**\n",
        "\n",
        "5️⃣ ** Why do we normalize input data between 0–1?**\n",
        "\n",
        "It keeps values in a consistent range, prevents large gradients, and stabilizes training.\n",
        "\n",
        "6️⃣ **Why do we use torch.manual_seed()?**\n",
        "\n",
        "It fixes the random seed, ensuring reproducible results each time you run the code.\n",
        "\n",
        "7️⃣ **What does adding noise to data simulate?**\n",
        "\n",
        "It mimics real-world imperfections and tests model robustness, but too much noise can slow training.\n",
        "\n",
        "\n",
        "⚙️ **E. Gradient & Backpropagation**\n",
        "\n",
        "8️⃣ **Why do we use optimizer.zero_grad() before each backward pass?**\n",
        "\n",
        "To reset old gradients; otherwise, they accumulate and distort weight updates.\n",
        "\n",
        "9️⃣ **What happens if you call .backward() twice without clearing gradients?**\n",
        "\n",
        "Gradients add up from multiple passes, causing incorrect or oversized updates.\n",
        "\n",
        "0️⃣ **What does loss.backward() do?**\n",
        "\n",
        "It computes gradients (∂loss/∂weights) through the computation graph using automatic differentiation.\n",
        "\n",
        "1️⃣ **What does optimizer.step() do?**\n",
        "\n",
        "It updates model parameters using the gradients computed by autograd.\n",
        "\n",
        "\n",
        "⚙️ **F. Model Behavior & Evaluation**\n",
        "\n",
        "2️⃣ ** What does a decreasing loss mean?**\n",
        "\n",
        "The model’s predictions are getting closer to true labels — it’s learning properly.\n",
        "\n",
        "3️⃣ **What happens if loss stops decreasing?**\n",
        "\n",
        "The model has plateaued; it might need a lower learning rate, more epochs, or a different optimizer.\n",
        "\n",
        "4️⃣ **Why do we plot loss over epochs?**\n",
        "\n",
        "To visualize training progress and detect issues like overfitting or poor convergence.\n",
        "\n",
        "5️⃣ **What does overfitting mean in this context?**\n",
        "\n",
        "The model performs well on training data but poorly on new data — it memorized rather than generalized.\n",
        "\n",
        "\n",
        "⚙️ **G. Model Architecture / Layers**\n",
        "\n",
        "6️⃣ **What does nn.Linear(a, b) mean?**\n",
        "\n",
        "It creates a fully connected layer that maps a input features to b outputs using learnable weights and bias.\n",
        "\n",
        "7️⃣ ** Why do we use multiple layers instead of one?**\n",
        "\n",
        "Each layer learns higher-level abstractions; multiple layers allow modeling complex, non-linear relationships.\n",
        "\n",
        "8️⃣ ** What happens if you add too many layers?**\n",
        "\n",
        "It can overfit small datasets or make training unstable if not regularized.\n",
        "\n",
        "\n",
        "⚙️ **H. Miscellaneous**\n",
        "\n",
        "9️⃣ **Why is batch size important?**\n",
        "\n",
        "It balances learning stability and speed — too small → noisy updates, too large → slow convergence.\n",
        "\n",
        "0️⃣ **Why do we set requires_grad=True for model parameters?**\n",
        "\n",
        "It tells autograd to track these tensors and compute their gradients during backpropagation.\n",
        "\n"
      ],
      "metadata": {
        "id": "w11f7mogyA9K"
      }
    },
    {
      "cell_type": "code",
      "source": [],
      "metadata": {
        "id": "VvDRdgvU2xj5"
      },
      "execution_count": null,
      "outputs": []
    }
  ]
}